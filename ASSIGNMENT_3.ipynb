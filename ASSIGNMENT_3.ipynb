{
 "cells": [
  {
   "cell_type": "markdown",
   "id": "40633fbe",
   "metadata": {},
   "source": [
    "# ASSIGNMENT_3_INEURON_FSDS_MAY2022"
   ]
  },
  {
   "cell_type": "markdown",
   "id": "9ef33a02",
   "metadata": {},
   "source": [
    "# 1.Why are functions advantageous to have in your programs?"
   ]
  },
  {
   "cell_type": "markdown",
   "id": "7d3e8176",
   "metadata": {},
   "source": [
    "ANSWER=\n",
    "A series of statements which returns some value to a caller. It can also be passed zero or more arguments which may be used in the execution of the body. \n",
    "\n",
    "Advantages of using functios in programme - \n",
    "\n",
    "1.Function are the block of code which do specific task when we call this function anywhere in our programs.\n",
    "\n",
    "2.With the use of function we can do repatative taske by simply caling function and passing required argumnets to get desired output.\n",
    "\n",
    "3.Function can reduce our length of code so that we can easily read a code and code is made with less memory consumption.\n",
    "\n",
    "4.With help of module, we can asscess the functios defined in different .py file into another python file to do specific task.So that we dont need to write a different code for this task in a new pyhthon file."
   ]
  },
  {
   "cell_type": "code",
   "execution_count": null,
   "id": "bea19a7b",
   "metadata": {},
   "outputs": [],
   "source": []
  },
  {
   "cell_type": "markdown",
   "id": "6ed2b26c",
   "metadata": {},
   "source": [
    "# 2.When does the code in a function run: when it's specified or when it's called?"
   ]
  },
  {
   "cell_type": "markdown",
   "id": "6cea5d69",
   "metadata": {},
   "source": [
    "ANSWER=\n",
    "\n",
    "Code inside a function runs when function is called with its default or by passing new argument values."
   ]
  },
  {
   "cell_type": "code",
   "execution_count": null,
   "id": "5dc51812",
   "metadata": {},
   "outputs": [],
   "source": []
  },
  {
   "cell_type": "markdown",
   "id": "2fcdc360",
   "metadata": {},
   "source": [
    "# 3.What statement creates a function?"
   ]
  },
  {
   "cell_type": "markdown",
   "id": "e5e98f26",
   "metadata": {},
   "source": [
    "ANSWER=\n",
    "\n",
    "statement ot create a function is def keyword then we specify function name with its parameter.\n",
    "for eg. to create a function named sum to add two given no\n",
    "\n",
    "def sum(a,b):\n",
    "    \n",
    "    return a+b\n",
    "\n",
    "Here sum(a,b) is a function which is defined using def keyword and whrn it is called it gives addition of a and b."
   ]
  },
  {
   "cell_type": "code",
   "execution_count": null,
   "id": "e5f0bee3",
   "metadata": {},
   "outputs": [],
   "source": []
  },
  {
   "cell_type": "markdown",
   "id": "b0a70877",
   "metadata": {},
   "source": [
    "# 4.What is the difference between a function and a function call?"
   ]
  },
  {
   "cell_type": "markdown",
   "id": "6f0e606e",
   "metadata": {},
   "source": [
    "ANSWER=\n",
    "\n",
    "function defination- \n",
    "At the time of function ,we specify or define a functionname,its parameter and \n",
    "insude its body we write a code to perform specific task using these parameter and \n",
    "at last we write code to get desired output using return statement. \n",
    "\n",
    "function call- \n",
    "when we require to do some specific task like and we already write or defined a function to do that task the we simply call that function\n",
    "by typing a function name and passing respective parameter and get the desired output"
   ]
  },
  {
   "cell_type": "code",
   "execution_count": null,
   "id": "094b0187",
   "metadata": {},
   "outputs": [],
   "source": []
  },
  {
   "cell_type": "markdown",
   "id": "c96eeadf",
   "metadata": {},
   "source": [
    "# 5.How many global scopes are there in a Python program? How many local scopes?"
   ]
  },
  {
   "cell_type": "markdown",
   "id": "d97e4c70",
   "metadata": {},
   "source": [
    "ANSWER=\n",
    "\n",
    "So in python there are two scope 1. Local scope 2. Global Scope\n",
    "\n",
    "In contrast, if we assign a value to a variable outside of all functions then that name will have a global Python scope.\n",
    "\n",
    "Local (or function) scope- \n",
    "It is the code block or body of any Python function or lambda expression. \n",
    "This Python scope contains the functions,variables or identifiers that you define inside the function. \n",
    "These functions,variables or identifiers will only be visible from the code of the function. \n",
    "It’s created at function call, not at function definition, so you’ll have as many different \n",
    "local scopes as function calls. \n",
    "This is true even if you call the same function multiple times, or recursively. \n",
    "Each call will result in a new local scope being created.\n",
    "For example, if we assign a value to a variable inside a function, then that variable will have a local Python scope.\n",
    "\n",
    "Global (or module) scope - \n",
    "It is the top-most scope in a Python program, script, or module. \n",
    "This Python scope contains all of the functions,variables or identifiers that you define at the top level of a program or a module.\n",
    "functions,variables in this Python scope are visible from everywhere in your code."
   ]
  },
  {
   "cell_type": "code",
   "execution_count": null,
   "id": "1aa50e81",
   "metadata": {},
   "outputs": [],
   "source": []
  },
  {
   "cell_type": "code",
   "execution_count": null,
   "id": "4451c08d",
   "metadata": {},
   "outputs": [],
   "source": []
  },
  {
   "cell_type": "markdown",
   "id": "0cef1bd1",
   "metadata": {},
   "source": [
    "# 6.What happens to variables in a local scope when the function call returns?"
   ]
  },
  {
   "cell_type": "markdown",
   "id": "81b9d5ac",
   "metadata": {},
   "source": [
    "ANSWER=\n",
    "\n",
    "When we call the function with agrument,the argument value is assigned to the variable defined in that\n",
    "function.And the this fumction do any operation defined within the functio code on top of that local \n",
    "variable and return the output.\n",
    "After execution of output the value assigned to variable inside function is vanished.We cant access \n",
    "that variable outside the function.\n",
    "At another call to the function we have to pass another value to variable.So each time we call the \n",
    "function,the new value is assigned to variable.so we have as many different local scopes \n",
    "as function calls.\n",
    "for e.g.-\n",
    "\n",
    "def square(base):\n",
    "\n",
    "...     result = base ** 2\n",
    "\n",
    "...     print(f'The square of {base} is: {result}')\n",
    "\n",
    "\n",
    "... square(10)\n",
    "\n",
    "100\n",
    "\n",
    "...square(100)\n",
    "\n",
    "10000"
   ]
  },
  {
   "cell_type": "code",
   "execution_count": null,
   "id": "a24857aa",
   "metadata": {},
   "outputs": [],
   "source": []
  },
  {
   "cell_type": "markdown",
   "id": "88631e85",
   "metadata": {},
   "source": [
    "# 7.What is the concept of a return value? Is it possible to have a return value in an expression?"
   ]
  },
  {
   "cell_type": "markdown",
   "id": "80f82817",
   "metadata": {},
   "source": [
    "ANSWER=\n",
    "\n",
    "The value that a function returns to the caller is generally known as the function’s return value.\n",
    "\n",
    "return statement is used to make functions send Python objects or output back to the function caller.\n",
    "\n",
    "A return statement consists of the return keyword followed by an optional return value.\n",
    "\n",
    "functions can return numeric values (int, float, and complex values), \n",
    "collections and sequences of objects (list, tuple, dictionary, or set objects), \n",
    "user-defined objects, classes, functions, and even modules or packages.\n",
    "\n",
    "There are 2 approach regarding returm statements in function=\n",
    "1.Explicit return Statements -\n",
    "\n",
    "An explicit return statement immediately terminates a function execution and \n",
    "sends the return value back to the caller code. \n",
    "To add an explicit return statement to a Python function, you need to use return \n",
    "followed by an optional return value\n",
    "Note that we can use a return statement only inside a function or method definition. If we use it anywhere else, then we’ll get a SyntaxError:\n",
    "\n",
    "\n",
    "\n",
    "> def number():\n",
    "...     return 42  # An explicit return statement\n",
    "...\n",
    "\n",
    ">>> number()  # The caller code gets 42\n",
    "42\n",
    "\n",
    "\n",
    "Implicit return Statements-\n",
    "\n",
    "A Python function will always have a return value. There is no notion of procedure or routine in Python. So, if we don’t explicitly use a return value in a return statement, or if we totally omit the return statement, then Python will implicitly return a default value for us. That default return value will always be None.\n",
    "Say we are writing a function that adds 1 to a number x, but we forget to supply a return statement. In this case, we will get an implicit return statement that uses None as a return value.The Python interpreter doesn’t display None. So, to show a return value of None in an interactive session, you need to explicitly use print().\n",
    "for e.g.\n",
    "def add_one(x):\n",
    "...     # No return statement at all\n",
    "...     result = x + 1\n",
    "...\n",
    "\n",
    ">>> value = add_one(5)\n",
    ">>> value\n",
    "\n",
    ">>> print(value)\n",
    "None"
   ]
  },
  {
   "cell_type": "raw",
   "id": "0a3a19cf",
   "metadata": {},
   "source": []
  },
  {
   "cell_type": "markdown",
   "id": "b6714269",
   "metadata": {},
   "source": [
    "# 8.If a function does not have a return statement, what is the return value of a call to that function?"
   ]
  },
  {
   "cell_type": "markdown",
   "id": "f63c3ea2",
   "metadata": {},
   "source": [
    "ANSWER =\n",
    "\n",
    "A Python function will always have a return value.So, if we don’t explicitly use a return value in a return statement, \n",
    "or if we totally omit the return statement, then Python will implicitly return a default value for us. \n",
    "That default return value will always be None."
   ]
  },
  {
   "cell_type": "code",
   "execution_count": null,
   "id": "3764fd50",
   "metadata": {},
   "outputs": [],
   "source": []
  },
  {
   "cell_type": "markdown",
   "id": "dc88ee56",
   "metadata": {},
   "source": [
    "# 9.How do you make a function variable refer to the global variable?"
   ]
  },
  {
   "cell_type": "markdown",
   "id": "296a2d66",
   "metadata": {},
   "source": [
    "ANSWER =\n",
    "\n",
    "Using global keyword we can refer to global variables from a non-global scope, i.e. inside a function.\n",
    "A global keyword is a keyword that allows a user to modify a variable outside the current scope. \n",
    "\n",
    "for e.g.\n",
    "x = 15 \n",
    "def change():\n",
    "    # using a global keyword\n",
    "    global x\n",
    " \n",
    "    # increment value of a by 5\n",
    "    x = x + 5\n",
    "    print(\"Value of x inside a function :\", x)\n",
    "  \n",
    "change()\n",
    "print(\"Value of x outside a function :\", x)\n",
    "\n",
    "Output:\n",
    "\n",
    "Value of x inside a function : 20\n",
    "Value of x outside a function : 20"
   ]
  },
  {
   "cell_type": "code",
   "execution_count": null,
   "id": "7d2f6f4c",
   "metadata": {},
   "outputs": [],
   "source": []
  },
  {
   "cell_type": "markdown",
   "id": "6e81abaa",
   "metadata": {},
   "source": [
    "# 10. What is the data type of None?"
   ]
  },
  {
   "cell_type": "markdown",
   "id": "64acd4e5",
   "metadata": {},
   "source": [
    "ANSWER=\n",
    "The data type of None is None Type."
   ]
  },
  {
   "cell_type": "code",
   "execution_count": null,
   "id": "ef544c55",
   "metadata": {},
   "outputs": [],
   "source": []
  },
  {
   "cell_type": "markdown",
   "id": "e09213cd",
   "metadata": {},
   "source": [
    "# 11. What does the sentence import areallyourpetsnamederic do?"
   ]
  },
  {
   "cell_type": "markdown",
   "id": "bfc8db2d",
   "metadata": {},
   "source": [
    "ANSWER=\n",
    "\n",
    "It import the all classes and function from areallyourpetsnamederic module or python file to existing python file."
   ]
  },
  {
   "cell_type": "code",
   "execution_count": null,
   "id": "fe481f54",
   "metadata": {},
   "outputs": [],
   "source": []
  },
  {
   "cell_type": "markdown",
   "id": "e68a593e",
   "metadata": {},
   "source": [
    "# 12. If you had a bacon() feature in a spam module, what would you call it after importing spam?"
   ]
  },
  {
   "cell_type": "markdown",
   "id": "89935d46",
   "metadata": {},
   "source": [
    "ANSWER=\n",
    "\n",
    "This function can be called with spam. bacon()"
   ]
  },
  {
   "cell_type": "code",
   "execution_count": null,
   "id": "57c24393",
   "metadata": {},
   "outputs": [],
   "source": []
  },
  {
   "cell_type": "markdown",
   "id": "a7d7d46d",
   "metadata": {},
   "source": [
    "# 13. What can you do to save a programme from crashing if it encounters an error?"
   ]
  },
  {
   "cell_type": "markdown",
   "id": "c7a767b9",
   "metadata": {},
   "source": [
    "ANSWER=\n",
    "\n",
    "I will use try and except clause to avoide crashing of programme when any error occurs."
   ]
  },
  {
   "cell_type": "code",
   "execution_count": null,
   "id": "fc9de1f4",
   "metadata": {},
   "outputs": [],
   "source": []
  },
  {
   "cell_type": "markdown",
   "id": "8ad5456a",
   "metadata": {},
   "source": [
    "# 14. What is the purpose of the try clause? What is the purpose of the except clause?"
   ]
  },
  {
   "cell_type": "markdown",
   "id": "7fc0202d",
   "metadata": {},
   "source": [
    "ANSWER = \n",
    "\n",
    "whatever code is written inside try clause is run line by line in python and when one of \n",
    "line of code encounter an error then respective except clause code is run to show what type of error \n",
    "and at what line it is occured.\n",
    "So after this error execution the code continue to run till last line in try clause.\n",
    "so try clause try to run code line by line and except clause will execute a respective code if error is occured in try clause."
   ]
  },
  {
   "cell_type": "code",
   "execution_count": null,
   "id": "636b4fe8",
   "metadata": {},
   "outputs": [],
   "source": []
  }
 ],
 "metadata": {
  "kernelspec": {
   "display_name": "Python 3 (ipykernel)",
   "language": "python",
   "name": "python3"
  },
  "language_info": {
   "codemirror_mode": {
    "name": "ipython",
    "version": 3
   },
   "file_extension": ".py",
   "mimetype": "text/x-python",
   "name": "python",
   "nbconvert_exporter": "python",
   "pygments_lexer": "ipython3",
   "version": "3.9.7"
  }
 },
 "nbformat": 4,
 "nbformat_minor": 5
}
