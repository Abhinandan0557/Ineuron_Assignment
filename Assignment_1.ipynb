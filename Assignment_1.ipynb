{
 "cells": [
  {
   "cell_type": "markdown",
   "id": "13440116",
   "metadata": {},
   "source": [
    "1. In the below elements which of them are values or an expression? eg:- values can be integer or string and expressions will be mathematical operators.\n",
    "* \n",
    "'hello'\n",
    "-87.8\n",
    "- \n",
    "/ \n",
    "+\t\n",
    "6 \n",
    "\n",
    "\n",
    "ANSWER - \n",
    "    Values - 'hello' , -87.8 & 6\n",
    "    expression - *, -, /, +"
   ]
  },
  {
   "cell_type": "markdown",
   "id": "04f66670",
   "metadata": {},
   "source": [
    "2. What is the difference between string and variable?\n",
    "\n",
    "ANSWER - \n",
    "    String - Strigs are usually words or any datat set stored in a variable & enclosed withn doublr inverted coma.\n",
    "    Variable - Variable is a container in which we store our data. Variable are assigned a value using =. \n",
    "                 eg. A = \"My name is Abhinandan Chougule\"\n",
    "                 Here A is name of variable and A.\n",
    "                 My name is Abhinandan Chougule is string enclosed within \"\" that is stored or assigned to variable A."
   ]
  },
  {
   "cell_type": "markdown",
   "id": "f2dd21fa",
   "metadata": {},
   "source": [
    "3. Describe three different data types.\n",
    "\n",
    "ANSWER -  \n",
    "    Some of DATA TYPES are a. Integer b. Strig  c. boolean  d. list\n",
    " a. Integer - These are the whole numbers eg. 10, 5,885 etc\n",
    " b. Strig - This is collection of words, nubers or alphabates or combination of alphabates and nubers or blank white space enclosed withing double inveted comma.\n",
    " c. Boolean - It is used to find truth values of an expression.It can be declared with bool keyword. It can take ony True and False values.\n",
    "            2=2 is True & 2=3 is false\n",
    "            True - True is 0.\n",
    "            True + True is 2.\n",
    "            True + False is 1.\n",
    "            False - False is 0.\n",
    "            True * False is 0.\n",
    "            True / False gives division by zero eror\n",
    "            False/True is 0.0\n",
    "        \n",
    " d. List - List is the collection of multiple items/objects in a single variable.In list data type objects are typed or enclosed in square bracets. List are mutable i.e. any items/object can be modified at any time.\n",
    "            eg. D = ['a', 'b']"
   ]
  },
  {
   "cell_type": "markdown",
   "id": "44ced192",
   "metadata": {},
   "source": [
    "4. What is an expression made up of? What do all expressions do?\n",
    "\n",
    "ANSWER - \n",
    "    An expression is made up of with string,list,tuples,dictionary,set, number, objects,function combined with or without operators.\n",
    "    eg. a =3\n",
    "        3*5\n",
    "        1+1-6\n",
    "        'ABHI'+'CHOUGULE'\n",
    "            these are some example of expressions."
   ]
  },
  {
   "cell_type": "markdown",
   "id": "62e1876c",
   "metadata": {},
   "source": [
    "5. This assignment statements, like spam = 10. What is the difference between an expression and a statement?\n",
    "\n",
    "ANSWER - \n",
    "    Expression  -Expression is sequence of Variable or literal values & operators in valid format which when interpreted by the compiler evaluates desired new values or output.\n",
    "    Statement - Statement is nothing but programing instruction like creating a variable or print statement etc. which will not return new value. They do something which is asked to do. \n",
    "    \n",
    "    Eg.  a = 5\n",
    "         b = 6\n",
    "         a+b+5___ gives 16 as new value.\n",
    "         print(a)___gives 5 as output\n",
    "                 \n",
    "                 Here a=5, b=6 and a+b+5 are a expression and print(a) is statement"
   ]
  },
  {
   "cell_type": "markdown",
   "id": "2bc40b0e",
   "metadata": {},
   "source": [
    "6. After running the following code, what does the variable bacon contain?\n",
    "bacon = 22\n",
    "bacon + 1\n",
    "\n",
    "ANSWER - \n",
    "    bacon = 22 because we have assigned 22 value to bacon.And bacon +1 is only a expression which evaluates to 23."
   ]
  },
  {
   "cell_type": "markdown",
   "id": "bc00b6ae",
   "metadata": {},
   "source": [
    "7. What should the values of the following two terms be?\n",
    "'spam' + 'spamspam'\n",
    "'spam' * 3\n",
    "\n",
    "ANSWER - \n",
    "    'spam' + 'spamspam' gives 'spamspamspam'\n",
    "    'spam' * 3 gives 'spamspamspam'"
   ]
  },
  {
   "cell_type": "markdown",
   "id": "c5abbdb6",
   "metadata": {},
   "source": [
    "8. Why is eggs a valid variable name while 100 is invalid?\n",
    "\n",
    "ANSWER - \n",
    "    A valid variable name should starts with any alphabates or underscore. It cannot starts with number.\n",
    "    So eggs is a valid variable name and 100 is invalid variable name."
   ]
  },
  {
   "cell_type": "markdown",
   "id": "065bc46b",
   "metadata": {},
   "source": [
    "9. What three functions can be used to get the integer, floating-point number, or string version of a value?\n",
    "\n",
    "ANSWER - \n",
    "    int() , float() & str() are the functions can be used to get the integer, floating-point number, or string version of a value."
   ]
  },
  {
   "cell_type": "markdown",
   "id": "bc26fe92",
   "metadata": {},
   "source": [
    "10. Why does this expression cause an error? How can you fix it?\n",
    "'I have eaten ' + 99 + ' burritos.'\n",
    "\n",
    "ANSWER -\n",
    "    It shows error because we are concatenate string data type with integer data type which is not valid expression in python. We only concatenate string data types to another strig dtat types and vise versa.\n",
    "    To remove the error we have to convert this 99 integer into strig by enclosing it within inverted comma as shown below.\n",
    "    'I have eaten ' + '99' + ' burritos.'\n",
    "    \n",
    "    output - 'I have eaten 99 burritos.'"
   ]
  },
  {
   "cell_type": "code",
   "execution_count": null,
   "id": "f027fa41",
   "metadata": {},
   "outputs": [],
   "source": []
  }
 ],
 "metadata": {
  "kernelspec": {
   "display_name": "Python 3 (ipykernel)",
   "language": "python",
   "name": "python3"
  },
  "language_info": {
   "codemirror_mode": {
    "name": "ipython",
    "version": 3
   },
   "file_extension": ".py",
   "mimetype": "text/x-python",
   "name": "python",
   "nbconvert_exporter": "python",
   "pygments_lexer": "ipython3",
   "version": "3.9.7"
  }
 },
 "nbformat": 4,
 "nbformat_minor": 5
}
