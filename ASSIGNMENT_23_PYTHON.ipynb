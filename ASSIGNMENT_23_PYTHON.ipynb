{
 "cells": [
  {
   "cell_type": "code",
   "execution_count": null,
   "id": "e68c6064",
   "metadata": {},
   "outputs": [],
   "source": []
  },
  {
   "cell_type": "markdown",
   "id": "174bc46e",
   "metadata": {},
   "source": [
    "# 1. What is the result of the code, and why?\n",
    "&gt;&gt;&gt; def func(a, b=6, c=8):\n",
    "\n",
    "        print(a, b, c)\n",
    "\n",
    "&gt;&gt;&gt; func(1, 2)"
   ]
  },
  {
   "cell_type": "markdown",
   "id": "0a720b0f",
   "metadata": {},
   "source": [
    "ANSWER=\n",
    "\n",
    "result is 1,2,8\n",
    "\n",
    "Explaination----\n",
    "\n",
    "when we call function by passing only positional arguments values,function updates its arguments values sequentialy with new values and rest of the parameter values remain same.\n",
    "\n",
    "So Here we pass 1 & 2 to a and b respectively.So a becomes 1 and b becomes 2.c has its default value 8."
   ]
  },
  {
   "cell_type": "code",
   "execution_count": null,
   "id": "bf88fd37",
   "metadata": {},
   "outputs": [],
   "source": []
  },
  {
   "cell_type": "markdown",
   "id": "af51205c",
   "metadata": {},
   "source": [
    "# 2. What is the result of this code, and why?\n",
    "\n",
    "&gt;&gt;&gt; def func(a, b, c=5):\n",
    "\n",
    "        print(a, b, c)\n",
    "    \n",
    "&gt;&gt;&gt; func(1, c=3, b=2)"
   ]
  },
  {
   "cell_type": "markdown",
   "id": "1b31b956",
   "metadata": {},
   "source": [
    "ANSWER=\n",
    "\n",
    "result is 1 2 3\n",
    "\n",
    "Explaination----\n",
    "\n",
    "when we call function by first passing positional arguments followed keyword arguments values,function first assign positinal argumnets values to positional parameters then it updates keyword arguments values with new values.\n",
    "\n",
    "So Here we pass 1 & c=3 and b=2.So a becomes 1 and c updates its value to 3 and b becomes 2."
   ]
  },
  {
   "cell_type": "code",
   "execution_count": null,
   "id": "58034c53",
   "metadata": {},
   "outputs": [],
   "source": []
  },
  {
   "cell_type": "code",
   "execution_count": null,
   "id": "459a4b7e",
   "metadata": {},
   "outputs": [],
   "source": []
  },
  {
   "cell_type": "markdown",
   "id": "8a4fbff9",
   "metadata": {},
   "source": [
    "# 3. How about this code: what is its result, and why?\n",
    "    \n",
    "&gt;&gt;&gt; def func(a, *pargs):\n",
    "    \n",
    "        print(a, pargs)\n",
    "        \n",
    "&gt;&gt;&gt; func(1, 2, 3)"
   ]
  },
  {
   "cell_type": "markdown",
   "id": "5ad093ef",
   "metadata": {},
   "source": [
    "result is 1 (2,3)\n",
    "\n",
    "Explaination----\n",
    "\n",
    "Here a is positional argument and *pargs is variable length argument.\n",
    "\n",
    "So a becomes 1 and remaining arguments goes to pargs which return values in tuple format"
   ]
  },
  {
   "cell_type": "code",
   "execution_count": null,
   "id": "7dbf253f",
   "metadata": {},
   "outputs": [],
   "source": []
  },
  {
   "cell_type": "markdown",
   "id": "89b42ed5",
   "metadata": {},
   "source": [
    "# 4. What does this code print, and why?\n",
    "&gt;&gt;&gt; def func(a, **kargs):\n",
    "\n",
    "        print(a, kargs)\n",
    "        \n",
    "&gt;&gt;&gt; func(a=1, c=3, b=2)"
   ]
  },
  {
   "cell_type": "markdown",
   "id": "59e06ff9",
   "metadata": {},
   "source": [
    "result is 1 {'c': 3, 'b': 2}\n",
    "\n",
    "Explaination----\n",
    "\n",
    "Here a is keyword argument and **kargs is keyword variable length arguments.\n",
    "\n",
    "So a becomes 1 and remaining arguments goes to kwargs which return values in dictionary format"
   ]
  },
  {
   "cell_type": "code",
   "execution_count": null,
   "id": "62b4bb46",
   "metadata": {},
   "outputs": [],
   "source": []
  },
  {
   "cell_type": "markdown",
   "id": "31e595e6",
   "metadata": {},
   "source": [
    "# 5. What gets printed by this, and explain?\n",
    "\n",
    "&gt;&gt;&gt; def func(a, b, c=8, d=5):\n",
    "        \n",
    "        print(a, b, c, d)\n",
    "        \n",
    "&gt;&gt;&gt; func(1, *(5, 6))"
   ]
  },
  {
   "cell_type": "markdown",
   "id": "41560201",
   "metadata": {},
   "source": [
    "result is 1 5 6 5\n",
    "\n",
    "Explaination----\n",
    "\n",
    "Here a & b are positional argument and c=8 and d=5 are default arguments.\n",
    "\n",
    "So a becomes 1 and b becomes 5,c becomes 6 and remaining d argument has its default value 5.\n",
    "There is no signuficant of passing argument with * as we define it in function defination while creating variable length arguments."
   ]
  },
  {
   "cell_type": "code",
   "execution_count": null,
   "id": "e6fb5497",
   "metadata": {},
   "outputs": [],
   "source": []
  },
  {
   "cell_type": "code",
   "execution_count": null,
   "id": "47c6dfff",
   "metadata": {},
   "outputs": [],
   "source": []
  },
  {
   "cell_type": "markdown",
   "id": "59ebc7e4",
   "metadata": {},
   "source": [
    "# 6. what is the result of this, and explain?\n",
    "&gt;&gt;&gt; def func(a, b, c): \n",
    "        \n",
    "        a = 2; b[0] = 'x'; c['a'] = 'y';\n",
    "        \n",
    "l=1; m=[1]; n={'a':0}\n",
    "\n",
    "func(l, m, n)\n",
    "\n",
    "l, m, n"
   ]
  },
  {
   "cell_type": "code",
   "execution_count": null,
   "id": "a7bb117c",
   "metadata": {},
   "outputs": [],
   "source": []
  },
  {
   "cell_type": "code",
   "execution_count": null,
   "id": "12dd76b2",
   "metadata": {},
   "outputs": [],
   "source": []
  },
  {
   "cell_type": "code",
   "execution_count": null,
   "id": "82bab42e",
   "metadata": {},
   "outputs": [],
   "source": []
  }
 ],
 "metadata": {
  "kernelspec": {
   "display_name": "Python 3 (ipykernel)",
   "language": "python",
   "name": "python3"
  },
  "language_info": {
   "codemirror_mode": {
    "name": "ipython",
    "version": 3
   },
   "file_extension": ".py",
   "mimetype": "text/x-python",
   "name": "python",
   "nbconvert_exporter": "python",
   "pygments_lexer": "ipython3",
   "version": "3.9.7"
  }
 },
 "nbformat": 4,
 "nbformat_minor": 5
}
