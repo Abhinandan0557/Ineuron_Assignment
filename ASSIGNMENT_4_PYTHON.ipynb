{
 "cells": [
  {
   "cell_type": "code",
   "execution_count": null,
   "id": "bef268cf",
   "metadata": {},
   "outputs": [],
   "source": []
  },
  {
   "cell_type": "markdown",
   "id": "8fe33691",
   "metadata": {},
   "source": [
    "# 1. What exactly is [ ]?"
   ]
  },
  {
   "cell_type": "markdown",
   "id": "8d6119d2",
   "metadata": {},
   "source": [
    "closing square bracjets are used to make collection of sequential heterogenous data that \n",
    "we call it as list which is one of data type in python.\n",
    "\n",
    "for e.g\n",
    "a=[4,654,'apple','cat',357,5+7j]\n",
    "\n",
    "Here we have created a list a which contain integer,characters,complex number encloed with square bracket.\n"
   ]
  },
  {
   "cell_type": "code",
   "execution_count": 1,
   "id": "a64848af",
   "metadata": {},
   "outputs": [],
   "source": []
  },
  {
   "cell_type": "markdown",
   "id": "9871a4fb",
   "metadata": {},
   "source": [
    "# 2. In a list of values stored in a variable called spam, how would you assign the value 'hello' as the third value? (Assume [2, 4, 6, 8, 10] are in spam.)"
   ]
  },
  {
   "cell_type": "code",
   "execution_count": 4,
   "id": "d0956286",
   "metadata": {},
   "outputs": [],
   "source": [
    "spam=[2,4,6,8,10]"
   ]
  },
  {
   "cell_type": "code",
   "execution_count": 5,
   "id": "c1b8fed2",
   "metadata": {},
   "outputs": [],
   "source": [
    "spam[2]='hello'"
   ]
  },
  {
   "cell_type": "code",
   "execution_count": 6,
   "id": "2e461080",
   "metadata": {},
   "outputs": [
    {
     "data": {
      "text/plain": [
       "[2, 4, 'hello', 8, 10]"
      ]
     },
     "execution_count": 6,
     "metadata": {},
     "output_type": "execute_result"
    }
   ],
   "source": [
    "spam"
   ]
  },
  {
   "cell_type": "code",
   "execution_count": null,
   "id": "a7c394fd",
   "metadata": {},
   "outputs": [],
   "source": []
  },
  {
   "cell_type": "markdown",
   "id": "203c0a68",
   "metadata": {},
   "source": [
    "# 3. What is the value of spam[int(int('3' * 2) / 11)]?"
   ]
  },
  {
   "cell_type": "markdown",
   "id": "b983c5b0",
   "metadata": {},
   "source": [
    "The value of spam[int(int('3' * 2) / 11)] is 8."
   ]
  },
  {
   "cell_type": "code",
   "execution_count": null,
   "id": "8932d1c2",
   "metadata": {},
   "outputs": [],
   "source": []
  },
  {
   "cell_type": "markdown",
   "id": "2c356b25",
   "metadata": {},
   "source": [
    "# 4. What is the value of spam[-1]?"
   ]
  },
  {
   "cell_type": "markdown",
   "id": "eb7870a2",
   "metadata": {},
   "source": [
    "Value of spam[-1] is 10."
   ]
  },
  {
   "cell_type": "code",
   "execution_count": null,
   "id": "0382b4ce",
   "metadata": {},
   "outputs": [],
   "source": []
  },
  {
   "cell_type": "markdown",
   "id": "c4ea87a4",
   "metadata": {},
   "source": [
    "# 5. What is the value of spam[:2]?"
   ]
  },
  {
   "cell_type": "markdown",
   "id": "4a2fda31",
   "metadata": {},
   "source": [
    "Value of spam[:2] is [2,4]"
   ]
  },
  {
   "cell_type": "code",
   "execution_count": null,
   "id": "ac71401e",
   "metadata": {},
   "outputs": [],
   "source": []
  },
  {
   "cell_type": "markdown",
   "id": "eb5e99f2",
   "metadata": {},
   "source": [
    "# 6. What is the value of bacon.index('cat')?\n",
    "bacon=[3.14, 'cat,' 11, 'cat,' True]"
   ]
  },
  {
   "cell_type": "markdown",
   "id": "26d51a6e",
   "metadata": {},
   "source": [
    "Value of bacon.index('cat') is 1."
   ]
  },
  {
   "cell_type": "code",
   "execution_count": null,
   "id": "2a124b7e",
   "metadata": {},
   "outputs": [],
   "source": []
  },
  {
   "cell_type": "markdown",
   "id": "b534b3e8",
   "metadata": {},
   "source": [
    "# 7. How does bacon.append(99) change the look of the list value in bacon?"
   ]
  },
  {
   "cell_type": "markdown",
   "id": "c26a438c",
   "metadata": {},
   "source": [
    "bacon.append(99) will add integer 99 at the last od list bacon.so after this command list will lool like\n",
    "\n",
    "[3.14, 'cat', 11, 'cat', True,99]"
   ]
  },
  {
   "cell_type": "code",
   "execution_count": null,
   "id": "ada37e1d",
   "metadata": {},
   "outputs": [],
   "source": []
  },
  {
   "cell_type": "markdown",
   "id": "68e87db3",
   "metadata": {},
   "source": [
    "# 8. How does bacon.remove('cat') change the look of the list in bacon?"
   ]
  },
  {
   "cell_type": "markdown",
   "id": "b9eeb829",
   "metadata": {},
   "source": [
    "bacon.remove('cat') will remove 1st occurance of 'cat' from bacon list. after this commad bacon look like\n",
    "\n",
    "[3.14, 11, 'cat', True,99]"
   ]
  },
  {
   "cell_type": "code",
   "execution_count": null,
   "id": "ec5e1c8e",
   "metadata": {},
   "outputs": [],
   "source": []
  },
  {
   "cell_type": "markdown",
   "id": "504ea4ac",
   "metadata": {},
   "source": [
    "# 9. What are the list concatenation and list replication operators?"
   ]
  },
  {
   "cell_type": "markdown",
   "id": "032e39b3",
   "metadata": {},
   "source": [
    "Operator for list concatenation is +.\n",
    "\n",
    "Operator for list replication is *."
   ]
  },
  {
   "cell_type": "markdown",
   "id": "022b5725",
   "metadata": {},
   "source": [
    "# 10. What is difference between the list methods append() and insert()?"
   ]
  },
  {
   "cell_type": "markdown",
   "id": "f1db7300",
   "metadata": {},
   "source": [
    "Using list.append(object) we can add any one element into list at the last index of list.\n",
    "\n",
    "Using list.insert(object,index) we can add any one element into list at specified index."
   ]
  },
  {
   "cell_type": "code",
   "execution_count": null,
   "id": "49bb2616",
   "metadata": {},
   "outputs": [],
   "source": []
  },
  {
   "cell_type": "markdown",
   "id": "34b63bf6",
   "metadata": {},
   "source": [
    "# 11. What are the two methods for removing items from a list?"
   ]
  },
  {
   "cell_type": "markdown",
   "id": "cd6c318b",
   "metadata": {},
   "source": [
    "del() and remove() are the two methods to remove items from a list."
   ]
  },
  {
   "cell_type": "code",
   "execution_count": null,
   "id": "cf9d002b",
   "metadata": {},
   "outputs": [],
   "source": []
  },
  {
   "cell_type": "markdown",
   "id": "ac0aff87",
   "metadata": {},
   "source": [
    "# 12. Describe how list values and string values are identical."
   ]
  },
  {
   "cell_type": "markdown",
   "id": "5273e069",
   "metadata": {},
   "source": [
    "Both string and list ahve indexs & slicing operation can be done on both.\n",
    "\n",
    "Both have len function.\n",
    "\n",
    "String and list both can be used in for loop.\n",
    "\n",
    "string & ist both can be concatenated and replicated using + and * operator respectively."
   ]
  },
  {
   "cell_type": "code",
   "execution_count": null,
   "id": "24704b36",
   "metadata": {},
   "outputs": [],
   "source": []
  },
  {
   "cell_type": "markdown",
   "id": "a28ac003",
   "metadata": {},
   "source": [
    "# 13. What's the difference between tuples and lists?"
   ]
  },
  {
   "cell_type": "markdown",
   "id": "99503f63",
   "metadata": {},
   "source": [
    "1.List are mutabal data type and tuples are immutable data type.\n",
    "\n",
    "2.List are defined by using [ ] and tuple are defined using ( ).\n",
    "\n",
    "3.List is slow as compared to tuple in terms of performance. "
   ]
  },
  {
   "cell_type": "code",
   "execution_count": null,
   "id": "e4dfd67c",
   "metadata": {},
   "outputs": [],
   "source": []
  },
  {
   "cell_type": "markdown",
   "id": "e82f174c",
   "metadata": {},
   "source": [
    "# 14. How do you type a tuple value that only contains the integer 42?"
   ]
  },
  {
   "cell_type": "code",
   "execution_count": 20,
   "id": "8017f2b9",
   "metadata": {},
   "outputs": [],
   "source": [
    "my_tuple=(42,)  #trailing comma is compulsory to make it as tuple"
   ]
  },
  {
   "cell_type": "code",
   "execution_count": 21,
   "id": "e7293385",
   "metadata": {},
   "outputs": [
    {
     "data": {
      "text/plain": [
       "tuple"
      ]
     },
     "execution_count": 21,
     "metadata": {},
     "output_type": "execute_result"
    }
   ],
   "source": [
    "type(my_tuple)"
   ]
  },
  {
   "cell_type": "code",
   "execution_count": null,
   "id": "e5d21503",
   "metadata": {},
   "outputs": [],
   "source": []
  },
  {
   "cell_type": "markdown",
   "id": "bb901176",
   "metadata": {},
   "source": [
    "# 15. How do you get a list value's tuple form? How do you get a tuple value's list form?"
   ]
  },
  {
   "cell_type": "code",
   "execution_count": 22,
   "id": "234a8de9",
   "metadata": {},
   "outputs": [],
   "source": [
    "#By using list() and tuple() function we can convert the type of datat type into each other\n",
    "my_list=[1,2,3,'A','B','C']"
   ]
  },
  {
   "cell_type": "code",
   "execution_count": 25,
   "id": "9779bc2b",
   "metadata": {},
   "outputs": [
    {
     "name": "stdout",
     "output_type": "stream",
     "text": [
      "(1, 2, 3, 'A', 'B', 'C')\n",
      "<class 'tuple'>\n"
     ]
    }
   ],
   "source": [
    "list_to_tuple=tuple(my_list)\n",
    "print(list_to_tuple)\n",
    "print(type(list_to_tuple))"
   ]
  },
  {
   "cell_type": "code",
   "execution_count": 26,
   "id": "2931d4d4",
   "metadata": {},
   "outputs": [],
   "source": [
    "my_tuple=(1,2,3,4,5,6)"
   ]
  },
  {
   "cell_type": "code",
   "execution_count": 27,
   "id": "ed091a23",
   "metadata": {},
   "outputs": [
    {
     "name": "stdout",
     "output_type": "stream",
     "text": [
      "[1, 2, 3, 4, 5, 6]\n",
      "<class 'list'>\n"
     ]
    }
   ],
   "source": [
    "tuple_to_list=list(my_tuple)\n",
    "print(tuple_to_list)\n",
    "print(type(tuple_to_list))"
   ]
  },
  {
   "cell_type": "code",
   "execution_count": null,
   "id": "abcb3a22",
   "metadata": {},
   "outputs": [],
   "source": []
  },
  {
   "cell_type": "markdown",
   "id": "e1003f8f",
   "metadata": {},
   "source": [
    "# 16. Variables that \"contain\" list values are not necessarily lists themselves. Instead, what do they contain?"
   ]
  },
  {
   "cell_type": "markdown",
   "id": "3358bfff",
   "metadata": {},
   "source": [
    "These variable contain reference to list values."
   ]
  },
  {
   "cell_type": "code",
   "execution_count": null,
   "id": "3cbd8055",
   "metadata": {},
   "outputs": [],
   "source": []
  },
  {
   "cell_type": "markdown",
   "id": "1f8f2fe9",
   "metadata": {},
   "source": [
    "# 17. How do you distinguish between copy.copy() and copy.deepcopy()?"
   ]
  },
  {
   "cell_type": "markdown",
   "id": "4db35d20",
   "metadata": {},
   "source": [
    "copy.copy()-\n",
    "\n",
    "It will crate a shallow copy of any object\n",
    "Id of both original object and copied object is different.\n",
    "\n",
    "If we do copy.copy() over any object and make any changes in copied object it directly change original object also.\n",
    "\n",
    "It means that any changes made to a copy of an object do reflect in the original object.\n",
    "\n",
    "So copy.copy() or shallow copy create a copy of object but with reference to parent object.\n",
    "\n",
    "copy.deepcopy() - \n",
    "\n",
    "It will create deepcopy of any object.\n",
    "\n",
    "If we do copy.deepcopy() over any object and make any changes in copied object it will not change original object.\n",
    "\n",
    "It means that any changes made to a copy of the object do not reflect in the original object.\n",
    "\n",
    "So deepcopy will create a copy of object but it does not make reference to parent object."
   ]
  }
 ],
 "metadata": {
  "kernelspec": {
   "display_name": "Python 3 (ipykernel)",
   "language": "python",
   "name": "python3"
  },
  "language_info": {
   "codemirror_mode": {
    "name": "ipython",
    "version": 3
   },
   "file_extension": ".py",
   "mimetype": "text/x-python",
   "name": "python",
   "nbconvert_exporter": "python",
   "pygments_lexer": "ipython3",
   "version": "3.9.7"
  }
 },
 "nbformat": 4,
 "nbformat_minor": 5
}
