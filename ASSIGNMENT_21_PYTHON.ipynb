{
 "cells": [
  {
   "cell_type": "markdown",
   "id": "491bd35f",
   "metadata": {},
   "source": [
    "1. Add the current date to the text file today.txt as a string."
   ]
  },
  {
   "cell_type": "code",
   "execution_count": 1,
   "id": "70526e1a",
   "metadata": {},
   "outputs": [
    {
     "name": "stdout",
     "output_type": "stream",
     "text": [
      "06-01-2023\n"
     ]
    }
   ],
   "source": [
    "import datetime\n",
    "file = open('today.txt','w')\n",
    "file.write(datetime.datetime.now().strftime(\"%d-%m-%Y\"))\n",
    "file.close()\n",
    "file = open('today.txt','r')\n",
    "print(file.read())\n",
    "file.close()\n"
   ]
  },
  {
   "cell_type": "code",
   "execution_count": null,
   "id": "35df6149",
   "metadata": {},
   "outputs": [],
   "source": []
  },
  {
   "cell_type": "markdown",
   "id": "a42aab04",
   "metadata": {},
   "source": [
    "2. Read the text file today.txt into the string today_string"
   ]
  },
  {
   "cell_type": "code",
   "execution_count": 2,
   "id": "c279015a",
   "metadata": {},
   "outputs": [
    {
     "name": "stdout",
     "output_type": "stream",
     "text": [
      "06-01-2023\n"
     ]
    }
   ],
   "source": [
    "file = open('today.txt','r')\n",
    "today_string = file.read()\n",
    "print(today_string)\n"
   ]
  },
  {
   "cell_type": "markdown",
   "id": "d420d509",
   "metadata": {},
   "source": [
    "3. Parse the date from today_string."
   ]
  },
  {
   "cell_type": "code",
   "execution_count": 3,
   "id": "33743df7",
   "metadata": {},
   "outputs": [
    {
     "name": "stdout",
     "output_type": "stream",
     "text": [
      "2023-01-06 00:00:00\n"
     ]
    }
   ],
   "source": [
    "from datetime import datetime\n",
    "parsed_data = datetime.strptime(today_string, '%d-%m-%Y')\n",
    "print(parsed_data)\n"
   ]
  },
  {
   "cell_type": "markdown",
   "id": "986a0708",
   "metadata": {},
   "source": [
    "4. List the files in your current directory"
   ]
  },
  {
   "cell_type": "code",
   "execution_count": 4,
   "id": "2405ea59",
   "metadata": {},
   "outputs": [
    {
     "name": "stdout",
     "output_type": "stream",
     "text": [
      "Assignment No. 2.ipynb\n",
      "Assignment_1.ipynb\n",
      "ASSIGNMENT_10_PYTHON.ipynb\n",
      "ASSIGNMENT_21_PYTHON.ipynb\n",
      "ASSIGNMENT_22_PYTHON.ipynb\n",
      "ASSIGNMENT_23_PYTHON.ipynb\n",
      "ASSIGNMENT_24_PYTHON.ipynb\n",
      "ASSIGNMENT_25_PYTHON.ipynb\n",
      "ASSIGNMENT_3.ipynb\n",
      "ASSIGNMENT_4_PYTHON.ipynb\n",
      "ASSIGNMENT_5_PYTHON.ipynb\n",
      "ASSIGNMENT_6_PYTHON.ipynb\n",
      "ASSIGNMENT_7_PYTHON.ipynb\n",
      "ASSIGNMENT_8_PYTHON.ipynb\n",
      "ASSIGNMENT_9_PYTHON.ipynb\n",
      "today.txt\n",
      "ASSIGNMENT_10_PYTHON-checkpoint.ipynb\n",
      "ASSIGNMENT_9_PYTHON-checkpoint.ipynb\n"
     ]
    }
   ],
   "source": [
    "import os\n",
    "for folders, subfolders, files in os.walk(os.getcwd()):\n",
    "    for file in files:\n",
    "        print(file)\n"
   ]
  },
  {
   "cell_type": "markdown",
   "id": "75d6bfd4",
   "metadata": {},
   "source": [
    "5. Create a list of all of the files in your parent directory (minimum five files should be available)."
   ]
  },
  {
   "cell_type": "code",
   "execution_count": 5,
   "id": "3794d5fc",
   "metadata": {},
   "outputs": [
    {
     "data": {
      "text/plain": [
       "['.ipynb_checkpoints',\n",
       " 'Assignment No. 2.ipynb',\n",
       " 'Assignment_1.ipynb',\n",
       " 'ASSIGNMENT_10_PYTHON.ipynb',\n",
       " 'ASSIGNMENT_21_PYTHON.ipynb',\n",
       " 'ASSIGNMENT_22_PYTHON.ipynb',\n",
       " 'ASSIGNMENT_23_PYTHON.ipynb',\n",
       " 'ASSIGNMENT_24_PYTHON.ipynb',\n",
       " 'ASSIGNMENT_25_PYTHON.ipynb',\n",
       " 'ASSIGNMENT_3.ipynb',\n",
       " 'ASSIGNMENT_4_PYTHON.ipynb',\n",
       " 'ASSIGNMENT_5_PYTHON.ipynb',\n",
       " 'ASSIGNMENT_6_PYTHON.ipynb',\n",
       " 'ASSIGNMENT_7_PYTHON.ipynb',\n",
       " 'ASSIGNMENT_8_PYTHON.ipynb',\n",
       " 'ASSIGNMENT_9_PYTHON.ipynb',\n",
       " 'New folder',\n",
       " 'today.txt']"
      ]
     },
     "execution_count": 5,
     "metadata": {},
     "output_type": "execute_result"
    }
   ],
   "source": [
    "\n",
    "import os \n",
    "os.listdir()\n"
   ]
  },
  {
   "cell_type": "markdown",
   "id": "aa5d9e82",
   "metadata": {},
   "source": [
    "6. Use multiprocessing to create three separate processes.\n",
    "Make each one wait a random number of seconds between one and five, print the current time, and then exit."
   ]
  },
  {
   "cell_type": "code",
   "execution_count": 9,
   "id": "1fe5150e",
   "metadata": {},
   "outputs": [],
   "source": [
    "import multiprocessing\n",
    "import time \n",
    "import random\n",
    "import datetime\n",
    "\n",
    "def procOne():\n",
    "    print(f'Proc_one_Starttime -> {datetime.datetime.now()}')\n",
    "    time.sleep(random.randint(1,5))\n",
    "    print(f'Proc_one_Endtime -> {datetime.datetime.now()}')\n",
    "    \n",
    "def procTwo():\n",
    "    print(f'Proc_two_Starttime -> {datetime.datetime.now()}')\n",
    "    time.sleep(random.randint(1,5))\n",
    "    print(f'Proc_two_Endtime -> {datetime.datetime.now()}')\n",
    "\n",
    "def procThree():\n",
    "    print(f'Proc_two_Starttime -> {datetime.datetime.now()}')\n",
    "    time.sleep(random.randint(1,5))\n",
    "    print(f'Proc_two_Endtime -> {datetime.datetime.now()}')\n",
    "    \n",
    "if __name__ == \"__main__\":    \n",
    "    p1 = multiprocessing.Process(target=procOne)\n",
    "    p2 = multiprocessing.Process(target=procTwo)\n",
    "    p3 = multiprocessing.Process(target=procThree)\n",
    "\n",
    "    p1.start()\n",
    "    p2.start()\n",
    "    p3.start()\n",
    "\n",
    "    p1.join()\n",
    "    p2.join()\n",
    "    p3.join()"
   ]
  },
  {
   "cell_type": "markdown",
   "id": "baf42880",
   "metadata": {},
   "source": [
    "7. Create a date object of your day of birth."
   ]
  },
  {
   "cell_type": "code",
   "execution_count": 6,
   "id": "21f7e598",
   "metadata": {},
   "outputs": [
    {
     "name": "stdout",
     "output_type": "stream",
     "text": [
      "1994-08-29 00:00:00 <class 'datetime.datetime'>\n"
     ]
    }
   ],
   "source": [
    "from datetime import datetime\n",
    "my_dob = datetime.strptime('29/08/1994','%d/%m/%Y')\n",
    "print(my_dob, type(my_dob))"
   ]
  },
  {
   "cell_type": "markdown",
   "id": "e2f01d5e",
   "metadata": {},
   "source": [
    "8. What day of the week was your day of birth?"
   ]
  },
  {
   "cell_type": "code",
   "execution_count": 8,
   "id": "8c03e2b4",
   "metadata": {},
   "outputs": [
    {
     "data": {
      "text/plain": [
       "'Monday'"
      ]
     },
     "execution_count": 8,
     "metadata": {},
     "output_type": "execute_result"
    }
   ],
   "source": [
    "from datetime import datetime\n",
    "my_dob = datetime(1994,8,29)\n",
    "my_dob.strftime(\"%A\")"
   ]
  },
  {
   "cell_type": "markdown",
   "id": "9cff5c57",
   "metadata": {},
   "source": [
    "9. When will you be (or when were you) 10,000 days old?"
   ]
  },
  {
   "cell_type": "code",
   "execution_count": 10,
   "id": "28db102c",
   "metadata": {},
   "outputs": [
    {
     "data": {
      "text/plain": [
       "datetime.datetime(2022, 1, 14, 0, 0)"
      ]
     },
     "execution_count": 10,
     "metadata": {},
     "output_type": "execute_result"
    }
   ],
   "source": [
    "from datetime import datetime, timedelta\n",
    "my_dob = datetime.strptime(\"29/08/1994\",'%d/%m/%Y')\n",
    "future_date = my_dob-timedelta(-10000)\n",
    "future_date"
   ]
  },
  {
   "cell_type": "code",
   "execution_count": null,
   "id": "0efe751d",
   "metadata": {},
   "outputs": [],
   "source": []
  }
 ],
 "metadata": {
  "kernelspec": {
   "display_name": "Python 3 (ipykernel)",
   "language": "python",
   "name": "python3"
  },
  "language_info": {
   "codemirror_mode": {
    "name": "ipython",
    "version": 3
   },
   "file_extension": ".py",
   "mimetype": "text/x-python",
   "name": "python",
   "nbconvert_exporter": "python",
   "pygments_lexer": "ipython3",
   "version": "3.9.13"
  }
 },
 "nbformat": 4,
 "nbformat_minor": 5
}
