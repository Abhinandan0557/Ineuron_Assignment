{
 "cells": [
  {
   "cell_type": "code",
   "execution_count": null,
   "id": "88874058",
   "metadata": {},
   "outputs": [],
   "source": []
  },
  {
   "cell_type": "markdown",
   "id": "99940784",
   "metadata": {},
   "source": [
    "# 1. What are escape characters, and how do you use them?"
   ]
  },
  {
   "cell_type": "markdown",
   "id": "6b62efbf",
   "metadata": {},
   "source": [
    "Escape characters in python are the character which enable To insert characters that are illegal in a string.\n",
    "\n",
    "An escape character is a backslash \\ followed by the character you want to insert.\n",
    "\n",
    "Followings are the different escape character sequence which can be used with strings-\n",
    "\n",
    "\\' Single Quote - to add a single quotation to string\n",
    "\n",
    "\\\\ Backslash - This allows us to insert a backslash into the Python output.\n",
    "\n",
    "\\n New Line - The new line character helps used to insert a new line before or after a string.\n",
    "\n",
    "\\r Carriage Return - It helps to create a raw string.\n",
    "\n",
    "\\t Tab -  It enables to insert space or tab between strings in a code.\n",
    "\n",
    "\\b Backspace - This escape sequence provides backspace to the Python string.\n",
    "\n",
    "\\f Form Feed - It helps in the interpolation of literal strings.\n",
    "\n",
    "\\ooo Octal value - To get the integer value of an octal value, provide a backslash followed by ooo or octal number in double-quotes.\n",
    "\n",
    "\\xhh Hex value - Use a backslash followed by a hexadecimal number.This is done by printing in backslash with the hexadecimal equivalent in double quotes."
   ]
  },
  {
   "cell_type": "markdown",
   "id": "e2f103af",
   "metadata": {},
   "source": [
    "# 2. What do the escape characters n and t stand for?"
   ]
  },
  {
   "cell_type": "code",
   "execution_count": null,
   "id": "a3d32d07",
   "metadata": {},
   "outputs": [],
   "source": [
    "\\n stands for new line\n",
    "\\t stands for tab or space in string"
   ]
  },
  {
   "cell_type": "code",
   "execution_count": null,
   "id": "34664aed",
   "metadata": {},
   "outputs": [],
   "source": []
  },
  {
   "cell_type": "markdown",
   "id": "6889c718",
   "metadata": {},
   "source": [
    "# 3. What is the way to include backslash characters in a string?"
   ]
  },
  {
   "cell_type": "markdown",
   "id": "b61b9792",
   "metadata": {},
   "source": [
    "We add backslash in string by adding \\\\ escape character where we want to add it in string."
   ]
  },
  {
   "cell_type": "code",
   "execution_count": null,
   "id": "8af03db5",
   "metadata": {},
   "outputs": [],
   "source": []
  },
  {
   "cell_type": "markdown",
   "id": "ff2a4df1",
   "metadata": {},
   "source": [
    "# 4. The string \"Howl's Moving Castle\" is a correct value. Why isn't the single quote character in the word Howl's not escaped a problem?"
   ]
  },
  {
   "cell_type": "markdown",
   "id": "9712c4ad",
   "metadata": {},
   "source": [
    "Here we have enclosed string into double quote thats why by adding single quote character not give a problem."
   ]
  },
  {
   "cell_type": "code",
   "execution_count": null,
   "id": "54e3d921",
   "metadata": {},
   "outputs": [],
   "source": []
  },
  {
   "cell_type": "markdown",
   "id": "8913409e",
   "metadata": {},
   "source": [
    "# 5. How do you write a string of newlines if you don't want to use the n character?"
   ]
  },
  {
   "cell_type": "markdown",
   "id": "f3d25e9c",
   "metadata": {},
   "source": [
    "By uisng multiline string."
   ]
  },
  {
   "cell_type": "code",
   "execution_count": null,
   "id": "8d25b71d",
   "metadata": {},
   "outputs": [],
   "source": []
  },
  {
   "cell_type": "markdown",
   "id": "0273613f",
   "metadata": {},
   "source": [
    "# 6. What are the values of the given expressions?\n",
    "'Hello, world!'[1]\n",
    "\n",
    "'Hello, world!'[0:5]\n",
    "\n",
    "'Hello, world!'[:5]\n",
    "\n",
    "'Hello, world!'[3:]"
   ]
  },
  {
   "cell_type": "markdown",
   "id": "f0446259",
   "metadata": {},
   "source": [
    "ANSWER = \n",
    "\n",
    "Values are \n",
    "\n",
    "'e'\n",
    "\n",
    "'Hello'\n",
    "\n",
    "'Hello'\n",
    "\n",
    "'lo, world!'"
   ]
  },
  {
   "cell_type": "code",
   "execution_count": null,
   "id": "34ece8d4",
   "metadata": {},
   "outputs": [],
   "source": []
  },
  {
   "cell_type": "markdown",
   "id": "140b5a24",
   "metadata": {},
   "source": [
    "# 7. What are the values of the following expressions?\n",
    "'Hello'.upper()\n",
    "\n",
    "'Hello'.upper().isupper()\n",
    "\n",
    "'Hello'.upper().lower()"
   ]
  },
  {
   "cell_type": "markdown",
   "id": "79d04008",
   "metadata": {},
   "source": [
    "ANSWER = \n",
    "\n",
    "The values are\n",
    "\n",
    "'HELLO'\n",
    "\n",
    "True\n",
    "\n",
    "'hello'"
   ]
  },
  {
   "cell_type": "code",
   "execution_count": null,
   "id": "d03bbfc8",
   "metadata": {},
   "outputs": [],
   "source": []
  },
  {
   "cell_type": "markdown",
   "id": "b3c893c8",
   "metadata": {},
   "source": [
    "# 8. What are the values of the following expressions?\n",
    "'Remember, remember, the fifth of July.'.split()\n",
    "\n",
    "'-'.join('There can only one.'.split())"
   ]
  },
  {
   "cell_type": "markdown",
   "id": "79583322",
   "metadata": {},
   "source": [
    "ANSWER = \n",
    "\n",
    "1st line of code will split the string at whitespace ang give list of splitted parts.\n",
    "\n",
    "['Remember,', 'remember,', 'the', 'fifth', 'of', 'November.']\n",
    "\n",
    "2nd line of code will first spit the string at whitespace and then join each part eith -\n",
    "\n",
    "and give outpun in joined string.\n",
    "\n",
    "'There-can-be-only-one.'\n"
   ]
  },
  {
   "cell_type": "code",
   "execution_count": null,
   "id": "62e36262",
   "metadata": {},
   "outputs": [],
   "source": []
  },
  {
   "cell_type": "markdown",
   "id": "1f90ca06",
   "metadata": {},
   "source": [
    "# 9. What are the methods for right-justifying, left-justifying, and centering a string?"
   ]
  },
  {
   "cell_type": "markdown",
   "id": "021beba4",
   "metadata": {},
   "source": [
    "methods for right-justifying, left-justifying, and centering a string are rjust(), ljust() & center() respectively."
   ]
  },
  {
   "cell_type": "code",
   "execution_count": null,
   "id": "0e521efe",
   "metadata": {},
   "outputs": [],
   "source": []
  },
  {
   "cell_type": "markdown",
   "id": "00d8531e",
   "metadata": {},
   "source": [
    "# 10. What is the best way to remove whitespace characters from the start or end?"
   ]
  },
  {
   "cell_type": "markdown",
   "id": "45237130",
   "metadata": {},
   "source": [
    "Using lstrip() and rstrip() methods we can remove whitespace from the left and right ends of a string respectively."
   ]
  },
  {
   "cell_type": "code",
   "execution_count": null,
   "id": "bf651c26",
   "metadata": {},
   "outputs": [],
   "source": []
  },
  {
   "cell_type": "code",
   "execution_count": null,
   "id": "88982bbd",
   "metadata": {},
   "outputs": [],
   "source": []
  },
  {
   "cell_type": "code",
   "execution_count": null,
   "id": "0cf5ca9a",
   "metadata": {},
   "outputs": [],
   "source": []
  },
  {
   "cell_type": "code",
   "execution_count": null,
   "id": "bf5a0cd7",
   "metadata": {},
   "outputs": [],
   "source": []
  }
 ],
 "metadata": {
  "kernelspec": {
   "display_name": "Python 3 (ipykernel)",
   "language": "python",
   "name": "python3"
  },
  "language_info": {
   "codemirror_mode": {
    "name": "ipython",
    "version": 3
   },
   "file_extension": ".py",
   "mimetype": "text/x-python",
   "name": "python",
   "nbconvert_exporter": "python",
   "pygments_lexer": "ipython3",
   "version": "3.9.7"
  }
 },
 "nbformat": 4,
 "nbformat_minor": 5
}
