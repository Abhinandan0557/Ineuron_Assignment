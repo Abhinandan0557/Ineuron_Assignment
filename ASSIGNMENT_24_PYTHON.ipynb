{
 "cells": [
  {
   "cell_type": "code",
   "execution_count": null,
   "id": "2bb1e3ba",
   "metadata": {},
   "outputs": [],
   "source": []
  },
  {
   "cell_type": "markdown",
   "id": "8db77ebd",
   "metadata": {},
   "source": [
    "# 1. What is the relationship between def statements and lambda expressions ?"
   ]
  },
  {
   "cell_type": "markdown",
   "id": "bf237700",
   "metadata": {},
   "source": [
    "ANSWER=\n",
    "\n",
    "Lambda Function, also referred to as 'Anonymous function' is same as a regular python function but can be defined without a name.\n",
    "\n",
    "While normal functions are defined using the def keyword, anonymous functions are defined using the lambda keyword.\n",
    "\n",
    "However,they are restricted to single line of expression."
   ]
  },
  {
   "cell_type": "code",
   "execution_count": null,
   "id": "3ce5647a",
   "metadata": {},
   "outputs": [],
   "source": []
  },
  {
   "cell_type": "markdown",
   "id": "7a86023c",
   "metadata": {},
   "source": [
    "# 2. What is the benefit of lambda?"
   ]
  },
  {
   "cell_type": "code",
   "execution_count": null,
   "id": "f7f8797c",
   "metadata": {},
   "outputs": [],
   "source": []
  },
  {
   "cell_type": "code",
   "execution_count": null,
   "id": "2800f589",
   "metadata": {},
   "outputs": [],
   "source": []
  },
  {
   "cell_type": "markdown",
   "id": "77fe1e1a",
   "metadata": {},
   "source": [
    "# 3. Compare and contrast map, filter, and reduce."
   ]
  },
  {
   "cell_type": "markdown",
   "id": "4d6e812e",
   "metadata": {},
   "source": [
    "ANSWER=\n",
    "\n",
    "map() function----\n",
    "\n",
    "The map() function iterates through all items in the given iterable and executes the function we passed as an argument on each of them.\n",
    "\n",
    "FILTER function----\n",
    "\n",
    "filter() takes a function object and an iterable and creates a new list.\n",
    "\n",
    "As the name suggests, filter() forms a new list that contains only elements that satisfy a certain condition.\n",
    "\n",
    "reduce()----\n",
    "\n",
    "reduce() works differently than map() and filter(). It does not return a new list based on the function and iterable we've passed. Instead, it returns a single value.\n",
    "\n",
    "reduce() works by calling the function we passed for the first two items in the sequence. The result returned by the function is used in another call to function alongside with the next (third in this case), element.\n",
    "\n",
    "This process repeats until we've gone through all the elements in the sequence."
   ]
  },
  {
   "cell_type": "code",
   "execution_count": 29,
   "id": "8dbffa55",
   "metadata": {},
   "outputs": [
    {
     "name": "stdout",
     "output_type": "stream",
     "text": [
      "<map object at 0x000001D56DBA3790>\n",
      "[10, 8]\n"
     ]
    }
   ],
   "source": [
    "#map() function to add two numbers\n",
    "def addition(x,y):\n",
    "    return x+y\n",
    "\n",
    "a=map(addition,[4,5],[6,3])\n",
    "print(a)\n",
    "print(list(a))"
   ]
  },
  {
   "cell_type": "code",
   "execution_count": 30,
   "id": "225c2341",
   "metadata": {},
   "outputs": [
    {
     "name": "stdout",
     "output_type": "stream",
     "text": [
      "<filter object at 0x000001D56DAB8310>\n",
      "[3, 4, 5, 6, 7, 8]\n"
     ]
    }
   ],
   "source": [
    "#filter() function to filter only numbers which are greature  or equal to 3 from list of numbers.\n",
    "def func(x):\n",
    "    if x>=3:\n",
    "        return x\n",
    "y = filter(func, (1,2,3,4,5,6,7,8))  \n",
    "print(y)\n",
    "print(list(y))"
   ]
  },
  {
   "cell_type": "code",
   "execution_count": 33,
   "id": "9b2a3502",
   "metadata": {},
   "outputs": [
    {
     "data": {
      "text/plain": [
       "210"
      ]
     },
     "execution_count": 33,
     "metadata": {},
     "output_type": "execute_result"
    }
   ],
   "source": [
    "#reduce() function to make addition of all numbers given in list\n",
    "def addition(x,y):\n",
    "    return x+y\n",
    "\n",
    "from functools import reduce\n",
    "reduce(addition,[10,20,30,40,50,60])"
   ]
  },
  {
   "cell_type": "code",
   "execution_count": null,
   "id": "cab2d2b7",
   "metadata": {},
   "outputs": [],
   "source": []
  },
  {
   "cell_type": "markdown",
   "id": "9824078a",
   "metadata": {},
   "source": [
    "# 4. What are function annotations, and how are they used?"
   ]
  },
  {
   "cell_type": "markdown",
   "id": "e80730ed",
   "metadata": {},
   "source": [
    "ANSWER=\n",
    "\n",
    "Function annotations are completely optional both for parameters and return value.\n",
    "\n",
    "Function annotations provide a way of associating various parts of a function with arbitrary python expressions at compile time\n",
    "\n",
    "\n",
    "1.Annotations for simple parameters :\n",
    "\n",
    "    def sample(a: expression, b: expression = 5):\n",
    "    \n",
    "2.Annotations for excess parameters :\n",
    "\n",
    "    def sample(*args: expression, *kwargs: expression):\n",
    "    \n",
    "3.Annotations for nested parameters :\n",
    "\n",
    "    def sample((a: expression, b: expression), (c: expression, d: expression)):\n",
    "    \n",
    "4.Annotations for return type :\n",
    "\n",
    "    def foobar(a: expression)->expression:\n"
   ]
  },
  {
   "cell_type": "code",
   "execution_count": 34,
   "id": "276c004a",
   "metadata": {},
   "outputs": [],
   "source": [
    "#examle showing use of function annotation\n",
    "def func(x:'annotating x', y: 'annotating y', z: int) -> float: print(x + y + z)"
   ]
  },
  {
   "cell_type": "code",
   "execution_count": 35,
   "id": "2567c96a",
   "metadata": {},
   "outputs": [
    {
     "name": "stdout",
     "output_type": "stream",
     "text": [
      "10\n"
     ]
    }
   ],
   "source": [
    "func(2,3,5)"
   ]
  },
  {
   "cell_type": "code",
   "execution_count": 38,
   "id": "63146fac",
   "metadata": {},
   "outputs": [
    {
     "name": "stdout",
     "output_type": "stream",
     "text": [
      "very good morning\n"
     ]
    }
   ],
   "source": [
    "func(\"very \",\"good \",\"morning\")"
   ]
  },
  {
   "cell_type": "code",
   "execution_count": null,
   "id": "ff8cad45",
   "metadata": {},
   "outputs": [],
   "source": []
  },
  {
   "cell_type": "code",
   "execution_count": null,
   "id": "08698e4c",
   "metadata": {},
   "outputs": [],
   "source": []
  },
  {
   "cell_type": "markdown",
   "id": "f4df09c4",
   "metadata": {},
   "source": [
    "# 5. What are recursive functions, and how are they used?"
   ]
  },
  {
   "cell_type": "code",
   "execution_count": null,
   "id": "4f529f1a",
   "metadata": {},
   "outputs": [],
   "source": [
    "ANSWER=\n",
    "\n",
    "Recursive function is a function that calls itself inside its existing execution.\n"
   ]
  },
  {
   "cell_type": "code",
   "execution_count": 39,
   "id": "1ecab383",
   "metadata": {},
   "outputs": [],
   "source": [
    "#example showing use of rucursive function\n",
    "\n",
    "def countdown(n):\n",
    "    print(n)\n",
    "    if n ==0:\n",
    "        return             # Terminate recursi     \n",
    "    else:\n",
    "        countdown(n - 1)   # Recursive call"
   ]
  },
  {
   "cell_type": "code",
   "execution_count": 40,
   "id": "f0f3a2ef",
   "metadata": {},
   "outputs": [
    {
     "name": "stdout",
     "output_type": "stream",
     "text": [
      "10\n",
      "9\n",
      "8\n",
      "7\n",
      "6\n",
      "5\n",
      "4\n",
      "3\n",
      "2\n",
      "1\n",
      "0\n"
     ]
    }
   ],
   "source": [
    "#calling countdown function by passing a number 10\n",
    "#it will print 10 then check if condition.It it false then goes to else.\n",
    "#In else statement countdown function is again called with passing argument 10-1=9.\n",
    "#then this function again called and repeate untill if condtion become True.\n",
    "#When if contion becomes True it stops runnung.\n",
    "countdown(10)"
   ]
  },
  {
   "cell_type": "code",
   "execution_count": null,
   "id": "a366b6da",
   "metadata": {},
   "outputs": [],
   "source": []
  },
  {
   "cell_type": "code",
   "execution_count": null,
   "id": "eb5e5477",
   "metadata": {},
   "outputs": [],
   "source": []
  },
  {
   "cell_type": "markdown",
   "id": "4ebc8e90",
   "metadata": {},
   "source": [
    "# 6. What are some general design guidelines for coding functions?"
   ]
  },
  {
   "cell_type": "markdown",
   "id": "0f9ec8c9",
   "metadata": {},
   "source": [
    "ANSWER=\n",
    "\n",
    "1.Move function arguments to a new line with an indentation, if they do not fit into the specified line length"
   ]
  },
  {
   "cell_type": "code",
   "execution_count": 43,
   "id": "b2a4c002",
   "metadata": {},
   "outputs": [],
   "source": [
    "def long_function_name(\n",
    "    var_one,\n",
    "    var_two,\n",
    "    var_three,\n",
    "    var_four\n",
    "):\n",
    "    print(var_one)"
   ]
  },
  {
   "cell_type": "markdown",
   "id": "0f106d12",
   "metadata": {},
   "source": [
    "2.Move the logical conditions to the new line if the line does not fit the maximum line size. \n",
    "\n",
    "This will help you understand the condition by looking from top to bottom. \n",
    "\n",
    "Poor formatting makes it difficult to read and understand complex predicates."
   ]
  },
  {
   "cell_type": "code",
   "execution_count": 59,
   "id": "fe860921",
   "metadata": {},
   "outputs": [
    {
     "name": "stdout",
     "output_type": "stream",
     "text": [
      "10\n",
      "5\n",
      "3\n",
      "6\n",
      "9\n"
     ]
    }
   ],
   "source": [
    "a,b,c,d,e=10,5,3,6,9\n",
    "\n",
    "if (a\n",
    "    and b\n",
    "    or c\n",
    "    or d\n",
    "    and e\n",
    "):\n",
    "    print(a)\n",
    "    print(b)\n",
    "    print(c)\n",
    "    print(d)\n",
    "    print(e)\n",
    "    "
   ]
  },
  {
   "cell_type": "markdown",
   "id": "bbdaa950",
   "metadata": {},
   "source": [
    "3. Use 4 spaces instead of tabs\n",
    "\n",
    "4. Maximum line length is 120 symbols.\n",
    "\n",
    "5. 2 blank lines between classes and functions.\n",
    "\n",
    "6. 1 blank line within class between class methods\n",
    "7. No blank line following a def line."
   ]
  },
  {
   "cell_type": "code",
   "execution_count": null,
   "id": "0b919b7c",
   "metadata": {},
   "outputs": [],
   "source": []
  },
  {
   "cell_type": "code",
   "execution_count": null,
   "id": "1f01fbec",
   "metadata": {},
   "outputs": [],
   "source": []
  },
  {
   "cell_type": "markdown",
   "id": "015b6840",
   "metadata": {},
   "source": [
    "# 7. Name three or more ways that functions can communicate results to a caller."
   ]
  },
  {
   "cell_type": "markdown",
   "id": "5d5c37c1",
   "metadata": {},
   "source": [
    "Some Methos to call function----\n",
    "1. Function call using function_name()\n",
    "2. function calling by assigning it to variable\n",
    "3. Function call inside a function\n",
    "4. Function call inside any class ausing object"
   ]
  },
  {
   "cell_type": "code",
   "execution_count": 61,
   "id": "14e06a7c",
   "metadata": {},
   "outputs": [
    {
     "data": {
      "text/plain": [
       "'PYTHON'"
      ]
     },
     "execution_count": 61,
     "metadata": {},
     "output_type": "execute_result"
    }
   ],
   "source": [
    "#calling function by function name and passing argument\n",
    "def add(str):   #takes string as parameter\n",
    "    return str.upper()\n",
    "    \n",
    "add(\"python\")   #paasing \"python\" as a arguments\n"
   ]
  },
  {
   "cell_type": "code",
   "execution_count": 63,
   "id": "a4cdd7a5",
   "metadata": {},
   "outputs": [
    {
     "name": "stdout",
     "output_type": "stream",
     "text": [
      "PYTHON\n"
     ]
    }
   ],
   "source": [
    "#calling function by function by assigning it to variable\n",
    "def add(str):   #takes string as parameter\n",
    "    return str.upper()\n",
    "    \n",
    "var=add(\"python\")  #function call is assigned to variable\n",
    "print(var)  #calling function by printing var variable"
   ]
  },
  {
   "cell_type": "code",
   "execution_count": 66,
   "id": "bca5e001",
   "metadata": {},
   "outputs": [
    {
     "name": "stdout",
     "output_type": "stream",
     "text": [
      "Display the value of outer variable 6\n",
      "Display the sum of inner function 8\n"
     ]
    }
   ],
   "source": [
    "#Function call inside a function\n",
    "def fun1(): # outer function  \n",
    "    a = 6 # define variable   \n",
    "    def fun2(b): # inner function  \n",
    "        a = 4 # inner variable   \n",
    "        print (\"Display the sum of inner function\", a + b) # sum of inner function  \n",
    "    print (\"Display the value of outer variable\", a) # it displays the value of outer function    \n",
    "    fun2(4)  # Inner function\n",
    "    \n",
    "fun1()  #calling fun1()"
   ]
  },
  {
   "cell_type": "code",
   "execution_count": 69,
   "id": "b8241abf",
   "metadata": {},
   "outputs": [
    {
     "name": "stdout",
     "output_type": "stream",
     "text": [
      "Roll no. is 101\n",
      "Name of student is Johnson\n"
     ]
    }
   ],
   "source": [
    "#Function call inside any class ausing object\n",
    "class Student:  \n",
    "    Roll_no = 101  \n",
    "    name = \"Johnson\"  \n",
    "    def show(self):  \n",
    "        print(\"Roll no. is {}\\nName of student is {}\".format(self.Roll_no, self.name))  \n",
    "  \n",
    "stud = Student() # Create the stud object of Student class  \n",
    "stud.show()   # call the function using stud object.    "
   ]
  },
  {
   "cell_type": "code",
   "execution_count": null,
   "id": "b5e477b6",
   "metadata": {},
   "outputs": [],
   "source": []
  },
  {
   "cell_type": "code",
   "execution_count": null,
   "id": "871ab724",
   "metadata": {},
   "outputs": [],
   "source": []
  }
 ],
 "metadata": {
  "kernelspec": {
   "display_name": "Python 3 (ipykernel)",
   "language": "python",
   "name": "python3"
  },
  "language_info": {
   "codemirror_mode": {
    "name": "ipython",
    "version": 3
   },
   "file_extension": ".py",
   "mimetype": "text/x-python",
   "name": "python",
   "nbconvert_exporter": "python",
   "pygments_lexer": "ipython3",
   "version": "3.9.7"
  }
 },
 "nbformat": 4,
 "nbformat_minor": 5
}
