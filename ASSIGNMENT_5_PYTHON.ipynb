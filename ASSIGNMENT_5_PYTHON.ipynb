{
 "cells": [
  {
   "cell_type": "code",
   "execution_count": null,
   "id": "b8b023cf",
   "metadata": {},
   "outputs": [],
   "source": []
  },
  {
   "cell_type": "markdown",
   "id": "78e9d985",
   "metadata": {},
   "source": [
    "# 1. What does an empty dictionary's code look like?"
   ]
  },
  {
   "cell_type": "code",
   "execution_count": 1,
   "id": "d430d5cd",
   "metadata": {},
   "outputs": [],
   "source": [
    "empty_dict={} #with only emplty curly braces we can make empty dictionary."
   ]
  },
  {
   "cell_type": "code",
   "execution_count": 3,
   "id": "9bb4a009",
   "metadata": {},
   "outputs": [
    {
     "data": {
      "text/plain": [
       "dict"
      ]
     },
     "execution_count": 3,
     "metadata": {},
     "output_type": "execute_result"
    }
   ],
   "source": [
    "type(empty_dict)"
   ]
  },
  {
   "cell_type": "code",
   "execution_count": null,
   "id": "33d711bd",
   "metadata": {},
   "outputs": [],
   "source": []
  },
  {
   "cell_type": "markdown",
   "id": "629d5747",
   "metadata": {},
   "source": [
    "# 2. What is the value of a dictionary value with the key 'foo' and the value 42?"
   ]
  },
  {
   "cell_type": "markdown",
   "id": "f0fbaa59",
   "metadata": {},
   "source": [
    "{'foo':42}"
   ]
  },
  {
   "cell_type": "code",
   "execution_count": null,
   "id": "bd204159",
   "metadata": {},
   "outputs": [],
   "source": []
  },
  {
   "cell_type": "markdown",
   "id": "bdb6666e",
   "metadata": {},
   "source": [
    "# 3. What is the most significant distinction between a dictionary and a list?"
   ]
  },
  {
   "cell_type": "markdown",
   "id": "d26c917c",
   "metadata": {},
   "source": [
    "elemnets in dictionary is unordered while elments in lists are ordered.\n",
    "\n",
    "elements in dictionary are in key valy pair while this is not in case of list."
   ]
  },
  {
   "cell_type": "code",
   "execution_count": null,
   "id": "a3390754",
   "metadata": {},
   "outputs": [],
   "source": []
  },
  {
   "cell_type": "markdown",
   "id": "09849ce9",
   "metadata": {},
   "source": [
    "# 4. What happens if you try to access spam['foo'] if spam is {'bar': 100}?"
   ]
  },
  {
   "cell_type": "markdown",
   "id": "895617f4",
   "metadata": {},
   "source": [
    "We get an key error because key with name 'foo' is not present in dictionary."
   ]
  },
  {
   "cell_type": "code",
   "execution_count": 6,
   "id": "b869eb32",
   "metadata": {},
   "outputs": [],
   "source": [
    "\n"
   ]
  },
  {
   "cell_type": "markdown",
   "id": "1080e176",
   "metadata": {},
   "source": [
    "# 5. If a dictionary is stored in spam, what is the difference between the expressions 'cat' in spam and 'cat' in spam.keys()?"
   ]
  },
  {
   "cell_type": "markdown",
   "id": "df1c0d73",
   "metadata": {},
   "source": [
    "No difference between both cases.In both cases it checks whether 'cat' is preent in dictionary as key or not."
   ]
  },
  {
   "cell_type": "code",
   "execution_count": null,
   "id": "f4d3d678",
   "metadata": {},
   "outputs": [],
   "source": []
  },
  {
   "cell_type": "markdown",
   "id": "28545571",
   "metadata": {},
   "source": [
    "# 6. If a dictionary is stored in spam, what is the difference between the expressions 'cat' in spam and 'cat' in spam.values()?"
   ]
  },
  {
   "cell_type": "markdown",
   "id": "feb7afcc",
   "metadata": {},
   "source": [
    "'cat' in spam checks whether there is a 'cat' key in the dictionary or not, while 'cat' in spam.values() checks whether there is a value 'cat' for one of the keys in spam or not."
   ]
  },
  {
   "cell_type": "code",
   "execution_count": null,
   "id": "3d11f160",
   "metadata": {},
   "outputs": [],
   "source": []
  },
  {
   "cell_type": "markdown",
   "id": "609d74d2",
   "metadata": {},
   "source": [
    "# 7. What is a shortcut for the following code?if 'color' not in spam:spam['color'] = 'black'"
   ]
  },
  {
   "cell_type": "markdown",
   "id": "14ddf670",
   "metadata": {},
   "source": [
    "spam.setdefault('color', 'black')\n",
    "\n",
    "Above setdefault method will add a key 'color' with its value 'black' if not present in dictionary spam."
   ]
  },
  {
   "cell_type": "code",
   "execution_count": null,
   "id": "62e9ac13",
   "metadata": {},
   "outputs": [],
   "source": []
  },
  {
   "cell_type": "markdown",
   "id": "8bcfb763",
   "metadata": {},
   "source": [
    "# 8. How do you \"pretty print\" dictionary values using which module and function?"
   ]
  },
  {
   "cell_type": "markdown",
   "id": "67bf1cc1",
   "metadata": {},
   "source": [
    "pprint.pprint()"
   ]
  },
  {
   "cell_type": "code",
   "execution_count": null,
   "id": "ac2333a4",
   "metadata": {},
   "outputs": [],
   "source": []
  },
  {
   "cell_type": "code",
   "execution_count": null,
   "id": "67b68958",
   "metadata": {},
   "outputs": [],
   "source": []
  },
  {
   "cell_type": "code",
   "execution_count": null,
   "id": "62731a2e",
   "metadata": {},
   "outputs": [],
   "source": []
  },
  {
   "cell_type": "code",
   "execution_count": null,
   "id": "c9678dc3",
   "metadata": {},
   "outputs": [],
   "source": []
  }
 ],
 "metadata": {
  "kernelspec": {
   "display_name": "Python 3 (ipykernel)",
   "language": "python",
   "name": "python3"
  },
  "language_info": {
   "codemirror_mode": {
    "name": "ipython",
    "version": 3
   },
   "file_extension": ".py",
   "mimetype": "text/x-python",
   "name": "python",
   "nbconvert_exporter": "python",
   "pygments_lexer": "ipython3",
   "version": "3.9.7"
  }
 },
 "nbformat": 4,
 "nbformat_minor": 5
}
