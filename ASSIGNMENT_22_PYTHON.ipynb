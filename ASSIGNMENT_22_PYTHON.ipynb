{
 "cells": [
  {
   "cell_type": "code",
   "execution_count": null,
   "id": "627ba2ce",
   "metadata": {},
   "outputs": [],
   "source": []
  },
  {
   "cell_type": "markdown",
   "id": "ad04e3ef",
   "metadata": {},
   "source": [
    "# 1. What is the result of the code, and explain?\n",
    "\n",
    "&gt;&gt;&gt;X = 'iNeuron';\n",
    "\n",
    "&gt;&gt;&gt; def func():\n",
    "        \n",
    "        print(X)\n",
    "\n",
    "&gt;&gt;&gt; func()\n"
   ]
  },
  {
   "cell_type": "code",
   "execution_count": 1,
   "id": "7ed4600f",
   "metadata": {},
   "outputs": [
    {
     "name": "stdout",
     "output_type": "stream",
     "text": [
      "iNeuron\n"
     ]
    }
   ],
   "source": [
    "X = 'iNeuron';\n",
    "\n",
    "def func():\n",
    "    print(X)\n",
    "func()"
   ]
  },
  {
   "cell_type": "markdown",
   "id": "8253a760",
   "metadata": {},
   "source": [
    "After calling function it prints value of x which is defined outside of function.So x is global variable.It is accessible indide any function."
   ]
  },
  {
   "cell_type": "code",
   "execution_count": null,
   "id": "864502f2",
   "metadata": {},
   "outputs": [],
   "source": []
  },
  {
   "cell_type": "markdown",
   "id": "7ac01a0b",
   "metadata": {},
   "source": [
    "# 2. What is the result of the code, and explain?\n",
    "\n",
    "X = 'iNeuron'\n",
    "\n",
    "def func():\n",
    "\n",
    "    X = 'NI!'\n",
    "\n",
    "func()\n",
    "\n",
    "print(X)"
   ]
  },
  {
   "cell_type": "code",
   "execution_count": 18,
   "id": "e3516794",
   "metadata": {},
   "outputs": [
    {
     "name": "stdout",
     "output_type": "stream",
     "text": [
      "iNeuron\n"
     ]
    }
   ],
   "source": [
    "X = 'iNeuron'\n",
    "\n",
    "def func():\n",
    "    X = 'NI!'\n",
    "    \n",
    "func()\n",
    "\n",
    "print(X)"
   ]
  },
  {
   "cell_type": "markdown",
   "id": "01620c6d",
   "metadata": {},
   "source": [
    "Here X is global variable & its value is \"iNeuron\".\n",
    "\n",
    "func() has no return statement so it wil not return any value while calling the func().\n",
    "\n",
    "So, print(X) tatement print X value 'iNeuron' as output."
   ]
  },
  {
   "cell_type": "code",
   "execution_count": null,
   "id": "f17a48d4",
   "metadata": {},
   "outputs": [],
   "source": []
  },
  {
   "cell_type": "markdown",
   "id": "cab02037",
   "metadata": {},
   "source": [
    "# 3. What does this code print, and why?\n",
    "\n",
    "X='Ineuron\n",
    "\n",
    "def func():\n",
    "    \n",
    "    X='NI\n",
    "    \n",
    "    print(X)"
   ]
  },
  {
   "cell_type": "code",
   "execution_count": 17,
   "id": "5c8d1ab4",
   "metadata": {},
   "outputs": [
    {
     "name": "stdout",
     "output_type": "stream",
     "text": [
      "NI\n",
      "Ineuron\n"
     ]
    }
   ],
   "source": [
    "X='ineuron'\n",
    "\n",
    "def func():\n",
    "    X='NI'\n",
    "    print(X)\n",
    "    \n",
    "func()\n",
    "print(X)"
   ]
  },
  {
   "cell_type": "markdown",
   "id": "d9b93e8f",
   "metadata": {},
   "source": [
    "Here X='ineuron' is global variable i.e. defined outside of function.\n",
    "\n",
    "And X='NI' is local variable definrd inside the function.\n",
    "\n",
    "So whie calling func() it looks for local variable first then prints output as local variable value.\n",
    "\n",
    "And print statement ehich is out of the function prints X value which is global.It cant access local variable."
   ]
  },
  {
   "cell_type": "code",
   "execution_count": null,
   "id": "d968a35d",
   "metadata": {},
   "outputs": [],
   "source": []
  },
  {
   "cell_type": "markdown",
   "id": "ee3249a6",
   "metadata": {},
   "source": [
    "# 4. What output does this code produce? Why?\n",
    "\n",
    "X=\"iNeuron\"\n",
    "\n",
    "def func():\n",
    "    \n",
    "    global X\n",
    "    \n",
    "    X='NI'\n",
    "    \n",
    "func()\n",
    "\n",
    "print(X)"
   ]
  },
  {
   "cell_type": "code",
   "execution_count": 23,
   "id": "d11bba11",
   "metadata": {},
   "outputs": [
    {
     "name": "stdout",
     "output_type": "stream",
     "text": [
      "NI\n"
     ]
    }
   ],
   "source": [
    "X=\"iNeuron\"\n",
    "def func():\n",
    "    global X\n",
    "    X='NI'\n",
    "\n",
    "func()\n",
    "print(X)"
   ]
  },
  {
   "cell_type": "markdown",
   "id": "b9db64e6",
   "metadata": {},
   "source": [
    "Here func() has no return statement so it will not give any output.\n",
    "\n",
    "Inside func() by using global keyword followed by X converts the global variable x='iNeuron' to X='NI'.\n",
    "\n",
    "print statment outside the function prints chaged value of X i.e 'NI' in output."
   ]
  },
  {
   "cell_type": "code",
   "execution_count": null,
   "id": "ac89a7b7",
   "metadata": {},
   "outputs": [],
   "source": []
  },
  {
   "cell_type": "markdown",
   "id": "b6dfe6a8",
   "metadata": {},
   "source": [
    "# 5. What about this code—what’s the output, and why?\n",
    "\n",
    "X='iNeuron'\n",
    "\n",
    "def func():\n",
    "\n",
    "    X='NI'\n",
    "    \n",
    "def nested():\n",
    "\n",
    "    print(X)\n",
    "    \n",
    "nested()\n",
    "\n",
    "func()\n",
    "\n",
    "X"
   ]
  },
  {
   "cell_type": "code",
   "execution_count": 38,
   "id": "52d2e98b",
   "metadata": {},
   "outputs": [
    {
     "data": {
      "text/plain": [
       "'iNeuron'"
      ]
     },
     "execution_count": 38,
     "metadata": {},
     "output_type": "execute_result"
    }
   ],
   "source": [
    "X='iNeuron'\n",
    "def func():\n",
    "    X='NI'\n",
    "    def nested():\n",
    "        print(X)\n",
    "        nested()\n",
    "\n",
    "func()\n",
    "X"
   ]
  },
  {
   "cell_type": "markdown",
   "id": "37aec2ed",
   "metadata": {},
   "source": [
    "Here func() has no return statement so it will not give any output.\n",
    "\n",
    "when X is called it gives X='iNeuron' in output."
   ]
  },
  {
   "cell_type": "code",
   "execution_count": null,
   "id": "c8e9a2d1",
   "metadata": {},
   "outputs": [],
   "source": []
  },
  {
   "cell_type": "markdown",
   "id": "e99da596",
   "metadata": {},
   "source": [
    "# 6. How about this code: what is its output in Python 3, and explain?\n",
    "    \n",
    "def func():\n",
    "\n",
    "    X='NI'\n",
    "    \n",
    "    def nested():\n",
    "    \n",
    "        X='Spam'\n",
    "        \n",
    "        nested()\n",
    "        \n",
    "        print(X)\n",
    "        \n",
    "func()"
   ]
  },
  {
   "cell_type": "code",
   "execution_count": 42,
   "id": "2326db2f",
   "metadata": {},
   "outputs": [],
   "source": [
    "def func():\n",
    "    X='NI'\n",
    "    def nested():\n",
    "        nonlocal X\n",
    "        X='Spam'\n",
    "        nested()\n",
    "        print(X)\n",
    "        \n",
    "func()"
   ]
  },
  {
   "cell_type": "markdown",
   "id": "9510c9f7",
   "metadata": {},
   "source": [
    "It will not give any output as func() has no return statement or any print statement to return value to function caller."
   ]
  },
  {
   "cell_type": "code",
   "execution_count": null,
   "id": "560da39d",
   "metadata": {},
   "outputs": [],
   "source": []
  }
 ],
 "metadata": {
  "kernelspec": {
   "display_name": "Python 3 (ipykernel)",
   "language": "python",
   "name": "python3"
  },
  "language_info": {
   "codemirror_mode": {
    "name": "ipython",
    "version": 3
   },
   "file_extension": ".py",
   "mimetype": "text/x-python",
   "name": "python",
   "nbconvert_exporter": "python",
   "pygments_lexer": "ipython3",
   "version": "3.9.7"
  }
 },
 "nbformat": 4,
 "nbformat_minor": 5
}
