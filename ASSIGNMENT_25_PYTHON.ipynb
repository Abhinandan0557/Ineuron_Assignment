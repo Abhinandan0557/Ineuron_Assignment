{
 "cells": [
  {
   "cell_type": "code",
   "execution_count": null,
   "id": "cc45a71e",
   "metadata": {},
   "outputs": [],
   "source": []
  },
  {
   "cell_type": "markdown",
   "id": "5687da74",
   "metadata": {},
   "source": [
    "# 1) . What is the difference between enclosing a list comprehension in square brackets and parentheses?"
   ]
  },
  {
   "cell_type": "markdown",
   "id": "98b595a5",
   "metadata": {},
   "source": [
    "ANSWER=\n",
    "\n",
    "enclosing a list comprehension in square brackets return a list in output and parentheses returns tuple in output."
   ]
  },
  {
   "cell_type": "code",
   "execution_count": null,
   "id": "db200ee5",
   "metadata": {},
   "outputs": [],
   "source": []
  },
  {
   "cell_type": "markdown",
   "id": "37980eb1",
   "metadata": {},
   "source": [
    "# 2) What is the relationship between generators and iterators?"
   ]
  },
  {
   "cell_type": "markdown",
   "id": "d0befafe",
   "metadata": {},
   "source": [
    "ANSWER=\n",
    "\n",
    "Iterators are the objects that use the next() method to get the next value of the sequence.\n",
    "\n",
    "A generator is a function that produces a sequence of values using a yield statement."
   ]
  },
  {
   "cell_type": "code",
   "execution_count": null,
   "id": "ba3d22fd",
   "metadata": {},
   "outputs": [],
   "source": []
  },
  {
   "cell_type": "markdown",
   "id": "d77e6085",
   "metadata": {},
   "source": [
    "# 3) What are the signs that a function is a generator function?"
   ]
  },
  {
   "cell_type": "markdown",
   "id": "40708ea7",
   "metadata": {},
   "source": [
    "ANSWER=\n",
    "\n",
    "Generator functions look like regular functions but they have one or more yield statements within them.\n",
    "\n",
    " A yield statement turns a regular function into a generator function.\n",
    "\n",
    "Unlike regular functions, the code within a generator function isn't run when you call it! Calling a generator function returns a generator object, which is a lazy iterable."
   ]
  },
  {
   "cell_type": "code",
   "execution_count": null,
   "id": "9fb4b1aa",
   "metadata": {},
   "outputs": [],
   "source": []
  },
  {
   "cell_type": "markdown",
   "id": "2f2b64fe",
   "metadata": {},
   "source": [
    "# 4) What is the purpose of a yield statement?"
   ]
  },
  {
   "cell_type": "markdown",
   "id": "dbe0a6fd",
   "metadata": {},
   "source": [
    "ANSWER=\n",
    "\n",
    "The yield keyword in Python controls the flow of a generator function. \n",
    "\n",
    "A function's execution can be temporarily halted by using the yield statement, which then returns a value to the caller while saving the state of the function for later resumption. \n",
    "\n",
    "This means that the generator as a whole can still be restarted after the return value has been obtained.\n",
    "\n",
    "When we call the function using next keword then it resume from where it paused and return next output."
   ]
  },
  {
   "cell_type": "code",
   "execution_count": null,
   "id": "06081a43",
   "metadata": {},
   "outputs": [],
   "source": []
  },
  {
   "cell_type": "markdown",
   "id": "44ae6bd7",
   "metadata": {},
   "source": [
    "# 5) What is the relationship between map calls and list comprehensions? Make a comparison and contrast between the two."
   ]
  },
  {
   "cell_type": "markdown",
   "id": "ededf27c",
   "metadata": {},
   "source": [
    "ANSWER=\n",
    "\n",
    "List Comprehension is a substitute for the lambda function, map() , filter() and reduce()\n",
    "\n",
    "\n",
    "COMPARISON----\n",
    "\n",
    "List comprehension is more concise and easier to read as compared to map.\n",
    "\n",
    "List comprehension allows filtering. In map, we have no such facility. For example, to print all even numbers in range of 100,we can write [n for n in range(100) if n%2 == 0]. There is no alternate for it in map\n",
    "\n",
    "List comprehension are used when a list of results is required as map only returns a map object and does not return any list.\n",
    "\n",
    "List comprehension is faster than map when we need to evaluate expressions that are too long or complicated to express\n",
    "\n",
    "Map is faster in case of calling an already defined function (as no lambda is required)."
   ]
  },
  {
   "cell_type": "code",
   "execution_count": null,
   "id": "16e0d863",
   "metadata": {},
   "outputs": [],
   "source": []
  },
  {
   "cell_type": "code",
   "execution_count": null,
   "id": "38ffb8fa",
   "metadata": {},
   "outputs": [],
   "source": []
  },
  {
   "cell_type": "code",
   "execution_count": null,
   "id": "a4bd18f5",
   "metadata": {},
   "outputs": [],
   "source": []
  }
 ],
 "metadata": {
  "kernelspec": {
   "display_name": "Python 3 (ipykernel)",
   "language": "python",
   "name": "python3"
  },
  "language_info": {
   "codemirror_mode": {
    "name": "ipython",
    "version": 3
   },
   "file_extension": ".py",
   "mimetype": "text/x-python",
   "name": "python",
   "nbconvert_exporter": "python",
   "pygments_lexer": "ipython3",
   "version": "3.9.7"
  }
 },
 "nbformat": 4,
 "nbformat_minor": 5
}
