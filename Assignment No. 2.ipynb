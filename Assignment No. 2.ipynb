{
 "cells": [
  {
   "cell_type": "markdown",
   "id": "9493a71f",
   "metadata": {},
   "source": [
    "# Assignment No. 2"
   ]
  },
  {
   "cell_type": "code",
   "execution_count": null,
   "id": "d77f2325",
   "metadata": {},
   "outputs": [],
   "source": []
  },
  {
   "cell_type": "markdown",
   "id": "2425bb0d",
   "metadata": {},
   "source": [
    "# 1.What are the two values of the Boolean data type? How do you write them?"
   ]
  },
  {
   "cell_type": "markdown",
   "id": "34e887bf",
   "metadata": {},
   "source": [
    "Two values of the Boolean data type are True & False.\n",
    "We write these tow values with Its first letter in uppercase and rexst are in lowercase."
   ]
  },
  {
   "cell_type": "code",
   "execution_count": null,
   "id": "c86f013c",
   "metadata": {},
   "outputs": [],
   "source": []
  },
  {
   "cell_type": "markdown",
   "id": "63d43a54",
   "metadata": {},
   "source": [
    "# 2. What are the three different types of Boolean operators?"
   ]
  },
  {
   "cell_type": "markdown",
   "id": "41f86768",
   "metadata": {},
   "source": [
    "and, or, not are the three types of boolean operators."
   ]
  },
  {
   "cell_type": "code",
   "execution_count": null,
   "id": "7a2cb102",
   "metadata": {},
   "outputs": [],
   "source": []
  },
  {
   "cell_type": "markdown",
   "id": "268ca7d8",
   "metadata": {},
   "source": [
    "# 3. Make a list of each Boolean operator's truth tables (i.e. every possible combination of Boolean values for the operator and what it evaluate )."
   ]
  },
  {
   "cell_type": "markdown",
   "id": "adbfe785",
   "metadata": {},
   "source": [
    "1 and 0 -- 0,\n",
    "0 and 1 -- 0,\n",
    "0 and 0 -- 0,\n",
    "1 and 1 -- 1,\n",
    "\n",
    "1 or 0 -- 1,\n",
    "0 or 1 -- 1,\n",
    "1 or 1 -- 1,\n",
    "0 or 0 -- 0,\n",
    "\n",
    "not 1 -- 0,\n",
    "not 0 -- 1,\n",
    "\n",
    "    We can use 1 for True and 0 for False in above list."
   ]
  },
  {
   "cell_type": "code",
   "execution_count": null,
   "id": "c1339600",
   "metadata": {},
   "outputs": [],
   "source": []
  },
  {
   "cell_type": "markdown",
   "id": "9ea6c8a3",
   "metadata": {},
   "source": [
    "# 4. What are the values of the following expressions?\n",
    "(5 > 4) and (3 == 5)\n",
    "\n",
    "not (5 > 4)\n",
    "\n",
    "(5 > 4) or (3 == 5)\n",
    "\n",
    "not ((5 > 4) or (3 == 5))\n",
    "\n",
    "(True and True) and (True == False)\n",
    "\n",
    "(not False) or (not True)"
   ]
  },
  {
   "cell_type": "code",
   "execution_count": 17,
   "id": "c9868c13",
   "metadata": {},
   "outputs": [
    {
     "data": {
      "text/plain": [
       "False"
      ]
     },
     "execution_count": 17,
     "metadata": {},
     "output_type": "execute_result"
    }
   ],
   "source": [
    "(5>4) and (3==5)"
   ]
  },
  {
   "cell_type": "code",
   "execution_count": 18,
   "id": "fe1a35b3",
   "metadata": {},
   "outputs": [
    {
     "data": {
      "text/plain": [
       "False"
      ]
     },
     "execution_count": 18,
     "metadata": {},
     "output_type": "execute_result"
    }
   ],
   "source": [
    "not (5 > 4)"
   ]
  },
  {
   "cell_type": "code",
   "execution_count": 19,
   "id": "2dd6950a",
   "metadata": {},
   "outputs": [
    {
     "data": {
      "text/plain": [
       "True"
      ]
     },
     "execution_count": 19,
     "metadata": {},
     "output_type": "execute_result"
    }
   ],
   "source": [
    "(5 > 4) or (3 == 5)"
   ]
  },
  {
   "cell_type": "code",
   "execution_count": 20,
   "id": "3fbabdf5",
   "metadata": {},
   "outputs": [
    {
     "data": {
      "text/plain": [
       "False"
      ]
     },
     "execution_count": 20,
     "metadata": {},
     "output_type": "execute_result"
    }
   ],
   "source": [
    "not ((5 > 4) or (3 == 5))"
   ]
  },
  {
   "cell_type": "code",
   "execution_count": 21,
   "id": "8fd255b2",
   "metadata": {},
   "outputs": [
    {
     "data": {
      "text/plain": [
       "False"
      ]
     },
     "execution_count": 21,
     "metadata": {},
     "output_type": "execute_result"
    }
   ],
   "source": [
    "(True and True) and (True == False)"
   ]
  },
  {
   "cell_type": "code",
   "execution_count": 22,
   "id": "175472e7",
   "metadata": {},
   "outputs": [
    {
     "data": {
      "text/plain": [
       "True"
      ]
     },
     "execution_count": 22,
     "metadata": {},
     "output_type": "execute_result"
    }
   ],
   "source": [
    "(not False) or (not True)"
   ]
  },
  {
   "cell_type": "code",
   "execution_count": null,
   "id": "8a25e05e",
   "metadata": {},
   "outputs": [],
   "source": []
  },
  {
   "cell_type": "markdown",
   "id": "f13e1c18",
   "metadata": {},
   "source": [
    "# 5. What are the six comparison operators?"
   ]
  },
  {
   "cell_type": "markdown",
   "id": "6e7bb32a",
   "metadata": {},
   "source": [
    "comparision operators are \n",
    "1. greater tha >\n",
    "2. greater than equal to >=\n",
    "3. Less than <\n",
    "4. Less than or equal to <= \n",
    "5. equal to ==\n",
    "6. not equal to !="
   ]
  },
  {
   "cell_type": "code",
   "execution_count": null,
   "id": "ab1c20e2",
   "metadata": {},
   "outputs": [],
   "source": []
  },
  {
   "cell_type": "markdown",
   "id": "bfe5e81d",
   "metadata": {},
   "source": [
    "# 6. How do you tell the difference between the equal to and assignment operators?Describe a condition and when you would use one."
   ]
  },
  {
   "cell_type": "markdown",
   "id": "98d0d9e7",
   "metadata": {},
   "source": [
    "= is an asignment operator ans == is a equal to operator i.e we call it as comparision operator.\n",
    "\n",
    "So assignment opertor(=) assign a given value written at the right side of = operator to a given varialble \n",
    "place at left side of = operator.\n",
    "\n",
    "== operator comapre given value written lft and right side of == operator and give output as True if both values are same \n",
    "And if two given values are different,it give oputput as False.\n",
    "\n",
    "for eg.\n",
    "\n",
    "a= 10  : value 10 is assigned or stored into variable a.\n",
    "10==10 : here 10 is compared with 10 for equality and both values are mathematically equale.So it gives True as output.\n",
    "5==7   : here 5 is compared with 7 for euallity which is mathematically unequale and this is not a true condition.So it gives False as output."
   ]
  },
  {
   "cell_type": "code",
   "execution_count": null,
   "id": "29def8d5",
   "metadata": {},
   "outputs": [],
   "source": []
  },
  {
   "cell_type": "markdown",
   "id": "cb7a4f8b",
   "metadata": {},
   "source": [
    "# 7. Identify the three blocks in this code:\n",
    "spam = 0\n",
    "\n",
    "if spam == 10:\n",
    "\n",
    "print('eggs')\n",
    "\n",
    "if spam > 5:\n",
    "\n",
    "print('bacon')\n",
    "\n",
    "else:\n",
    "\n",
    "print('ham')\n",
    "\n",
    "print('spam')\n",
    "\n",
    "print('spam')\n"
   ]
  },
  {
   "cell_type": "raw",
   "id": "45bfeff7",
   "metadata": {},
   "source": [
    "spam = 0\n",
    "\n",
    "#block 1\n",
    "if spam == 10:\n",
    "    print('eggs')\n",
    "    \n",
    "#block 2\n",
    "if spam > 5:\n",
    "    print('bacon')\n",
    "    \n",
    "#block 3\n",
    "else:\n",
    "    print('ham')\n",
    "    print('spam')\n",
    "    print('spam')"
   ]
  },
  {
   "cell_type": "code",
   "execution_count": null,
   "id": "0ef684c4",
   "metadata": {},
   "outputs": [],
   "source": []
  },
  {
   "cell_type": "markdown",
   "id": "2285dab6",
   "metadata": {},
   "source": [
    "# 8. Write code that prints Hello if 1 is stored in spam, prints Howdy if 2 is stored in spam, and prints Greetings! if anything else is stored in spam."
   ]
  },
  {
   "cell_type": "code",
   "execution_count": 26,
   "id": "3335a5c8",
   "metadata": {},
   "outputs": [
    {
     "name": "stdout",
     "output_type": "stream",
     "text": [
      "Greetings!\n"
     ]
    }
   ],
   "source": [
    "spam = 0\n",
    "\n",
    "if spam == 1:\n",
    "    print('Hello')\n",
    "    \n",
    "if spam==2:\n",
    "    print('Howdy')\n",
    "    \n",
    "else:\n",
    "    print('Greetings!')"
   ]
  },
  {
   "cell_type": "code",
   "execution_count": null,
   "id": "1f07164f",
   "metadata": {},
   "outputs": [],
   "source": []
  },
  {
   "cell_type": "markdown",
   "id": "99ef4333",
   "metadata": {},
   "source": [
    "# 9.If your programme is stuck in an endless loop, what keys you’ll press?"
   ]
  },
  {
   "cell_type": "code",
   "execution_count": null,
   "id": "07d6a569",
   "metadata": {},
   "outputs": [],
   "source": []
  },
  {
   "cell_type": "code",
   "execution_count": null,
   "id": "69d6d1f3",
   "metadata": {},
   "outputs": [],
   "source": []
  },
  {
   "cell_type": "markdown",
   "id": "fcb41304",
   "metadata": {},
   "source": [
    "# 10. How can you tell the difference between break and continue?"
   ]
  },
  {
   "cell_type": "markdown",
   "id": "daf9f832",
   "metadata": {},
   "source": [
    "break statement will break terminates the exucution of loop and through the controll of code to out of the loop as soon as condition becomes True.\n",
    "\n",
    "continue statement will skip the current iteration for which given condition becomes True and go to the  very next iterarion to execute."
   ]
  },
  {
   "cell_type": "code",
   "execution_count": null,
   "id": "9d3689cb",
   "metadata": {},
   "outputs": [],
   "source": []
  },
  {
   "cell_type": "markdown",
   "id": "a8413053",
   "metadata": {},
   "source": [
    "# 11. In a for loop, what is the difference between range(10), range(0, 10), and range(0, 10, 1)?"
   ]
  },
  {
   "cell_type": "markdown",
   "id": "500018cc",
   "metadata": {},
   "source": [
    "In a for loop there is no difference between range(10) , range(0,10) and range(0,10,1).\n",
    "\n",
    "When we print every iteration in for loop for these range function all the three range function gives valus form 0 to 9."
   ]
  },
  {
   "cell_type": "code",
   "execution_count": null,
   "id": "b960efae",
   "metadata": {},
   "outputs": [],
   "source": []
  },
  {
   "cell_type": "markdown",
   "id": "54881309",
   "metadata": {},
   "source": [
    "# 12. Write a short program that prints the numbers 1 to 10 using a for loop. Then write an equivalent program that prints the numbers 1 to 10 using a while loop."
   ]
  },
  {
   "cell_type": "code",
   "execution_count": 3,
   "id": "29b7d00e",
   "metadata": {},
   "outputs": [
    {
     "name": "stdout",
     "output_type": "stream",
     "text": [
      "[1, 2, 3, 4, 5, 6, 7, 8, 9, 10]\n"
     ]
    }
   ],
   "source": [
    "#printing nubers from 1 to 10 using for loop\n",
    "num1_to_10=[]\n",
    "for i in range(1,11):\n",
    "    num1_to_10.append(i)\n",
    "print(num1_to_10)   "
   ]
  },
  {
   "cell_type": "code",
   "execution_count": 6,
   "id": "0aa7e81b",
   "metadata": {},
   "outputs": [
    {
     "name": "stdout",
     "output_type": "stream",
     "text": [
      "[1, 2, 3, 4, 5, 6, 7, 8, 9, 10]\n"
     ]
    }
   ],
   "source": [
    "#printing nubers from 1 to 10 using while loop\n",
    "a=0\n",
    "my_list1=[]\n",
    "while a<10:\n",
    "    a=a+1\n",
    "    my_list1.append(a)\n",
    "print(my_list1)\n"
   ]
  },
  {
   "cell_type": "code",
   "execution_count": null,
   "id": "0758d036",
   "metadata": {},
   "outputs": [],
   "source": []
  },
  {
   "cell_type": "markdown",
   "id": "ebc3ae96",
   "metadata": {},
   "source": [
    "# 13. If you had a function named bacon() inside a module named spam, how would you call it after importing spam?"
   ]
  },
  {
   "cell_type": "markdown",
   "id": "907f4bef",
   "metadata": {},
   "source": [
    "After importing any module when we want to call the function inside this modele we write module_name.function_name(arguments)\n",
    "\n",
    "So after importing a module names spam,to call a function named bacon() from this module we Simply write\n",
    "spam.bacon()"
   ]
  },
  {
   "cell_type": "code",
   "execution_count": null,
   "id": "e476836a",
   "metadata": {},
   "outputs": [],
   "source": []
  }
 ],
 "metadata": {
  "kernelspec": {
   "display_name": "Python 3 (ipykernel)",
   "language": "python",
   "name": "python3"
  },
  "language_info": {
   "codemirror_mode": {
    "name": "ipython",
    "version": 3
   },
   "file_extension": ".py",
   "mimetype": "text/x-python",
   "name": "python",
   "nbconvert_exporter": "python",
   "pygments_lexer": "ipython3",
   "version": "3.9.7"
  }
 },
 "nbformat": 4,
 "nbformat_minor": 5
}
